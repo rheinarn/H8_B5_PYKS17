{
 "cells": [
  {
   "cell_type": "markdown",
   "id": "1aba6fdd",
   "metadata": {},
   "source": [
    "# Sesi 1"
   ]
  },
  {
   "cell_type": "markdown",
   "id": "8962992b",
   "metadata": {},
   "source": [
    "## Integer"
   ]
  },
  {
   "cell_type": "code",
   "execution_count": 6,
   "id": "fe116bb6",
   "metadata": {},
   "outputs": [
    {
     "name": "stdout",
     "output_type": "stream",
     "text": [
      "12984\n"
     ]
    }
   ],
   "source": [
    "print(12983+1)"
   ]
  },
  {
   "cell_type": "code",
   "execution_count": 3,
   "id": "9f893cf8",
   "metadata": {},
   "outputs": [
    {
     "name": "stdout",
     "output_type": "stream",
     "text": [
      "10\n",
      "<class 'int'>\n"
     ]
    }
   ],
   "source": [
    "print(10)\n",
    "print(type(10))"
   ]
  },
  {
   "cell_type": "markdown",
   "id": "e2ad7f2a",
   "metadata": {},
   "source": [
    "## Floating Point"
   ]
  },
  {
   "cell_type": "code",
   "execution_count": 8,
   "id": "1b536541",
   "metadata": {},
   "outputs": [
    {
     "name": "stdout",
     "output_type": "stream",
     "text": [
      "4.2\n",
      "<class 'float'>\n",
      "4.0\n",
      "0.2\n",
      "4000000.0\n",
      "0.00042\n"
     ]
    }
   ],
   "source": [
    "print(4.2)\n",
    "print(type(4.2))\n",
    "\n",
    "print(4.)\n",
    "print(.2)\n",
    "print(.4e7)\n",
    "print(4.2e-4)"
   ]
  },
  {
   "cell_type": "markdown",
   "id": "b09d6f9d",
   "metadata": {},
   "source": [
    "## String"
   ]
  },
  {
   "cell_type": "code",
   "execution_count": 7,
   "id": "a8be7c92",
   "metadata": {},
   "outputs": [
    {
     "name": "stdout",
     "output_type": "stream",
     "text": [
      "Hi!\n",
      "<class 'str'>\n"
     ]
    }
   ],
   "source": [
    "print('Hi!')\n",
    "print(type('Hi!'))"
   ]
  },
  {
   "cell_type": "code",
   "execution_count": 9,
   "id": "b639ee75",
   "metadata": {},
   "outputs": [
    {
     "name": "stdout",
     "output_type": "stream",
     "text": [
      "\n"
     ]
    }
   ],
   "source": [
    "print('')\n"
   ]
  },
  {
   "cell_type": "code",
   "execution_count": 10,
   "id": "5e220918",
   "metadata": {},
   "outputs": [
    {
     "name": "stdout",
     "output_type": "stream",
     "text": [
      "this string contains single quote (') character.\n",
      "this string contains double quote (\") character.\n"
     ]
    }
   ],
   "source": [
    "print(\"this string contains single quote (') character.\")\n",
    "print('this string contains double quote (\") character.')"
   ]
  },
  {
   "cell_type": "code",
   "execution_count": 11,
   "id": "037a0c73",
   "metadata": {},
   "outputs": [
    {
     "name": "stdout",
     "output_type": "stream",
     "text": [
      "cobakutip\n"
     ]
    }
   ],
   "source": [
    "print('coba''kutip')"
   ]
  },
  {
   "cell_type": "markdown",
   "id": "d6bbe29e",
   "metadata": {},
   "source": [
    "## Boolean"
   ]
  },
  {
   "cell_type": "code",
   "execution_count": 12,
   "id": "f4e292b5",
   "metadata": {},
   "outputs": [
    {
     "name": "stdout",
     "output_type": "stream",
     "text": [
      "<class 'bool'>\n",
      "<class 'bool'>\n"
     ]
    }
   ],
   "source": [
    "print(type(True))\n",
    "print(type(False))"
   ]
  },
  {
   "cell_type": "markdown",
   "id": "047f747f",
   "metadata": {},
   "source": [
    "## Variable"
   ]
  },
  {
   "cell_type": "markdown",
   "id": "a42d10d3",
   "metadata": {},
   "source": [
    "### Assignment"
   ]
  },
  {
   "cell_type": "code",
   "execution_count": 13,
   "id": "09232a42",
   "metadata": {},
   "outputs": [
    {
     "name": "stdout",
     "output_type": "stream",
     "text": [
      "300\n"
     ]
    }
   ],
   "source": [
    "n = 300\n",
    "print(n)"
   ]
  },
  {
   "cell_type": "code",
   "execution_count": 14,
   "id": "6222220e",
   "metadata": {},
   "outputs": [
    {
     "data": {
      "text/plain": [
       "300"
      ]
     },
     "execution_count": 14,
     "metadata": {},
     "output_type": "execute_result"
    }
   ],
   "source": [
    "n"
   ]
  },
  {
   "cell_type": "code",
   "execution_count": 15,
   "id": "626b5484",
   "metadata": {},
   "outputs": [
    {
     "name": "stdout",
     "output_type": "stream",
     "text": [
      "1000\n"
     ]
    },
    {
     "data": {
      "text/plain": [
       "1000"
      ]
     },
     "execution_count": 15,
     "metadata": {},
     "output_type": "execute_result"
    }
   ],
   "source": [
    "n = 1000\n",
    "print(n)\n",
    "n"
   ]
  },
  {
   "cell_type": "code",
   "execution_count": 16,
   "id": "3d73e631",
   "metadata": {},
   "outputs": [
    {
     "name": "stdout",
     "output_type": "stream",
     "text": [
      "300 300 300\n"
     ]
    }
   ],
   "source": [
    "a = 300\n",
    "b = 300\n",
    "c = 300\n",
    "print(a, b, c)"
   ]
  },
  {
   "cell_type": "markdown",
   "id": "ff577634",
   "metadata": {},
   "source": [
    "### Variable Types"
   ]
  },
  {
   "cell_type": "code",
   "execution_count": 17,
   "id": "4ac0b339",
   "metadata": {},
   "outputs": [
    {
     "name": "stdout",
     "output_type": "stream",
     "text": [
      "42.0\n",
      "Jadi String\n"
     ]
    }
   ],
   "source": [
    "var = 42.0\n",
    "print(var)\n",
    "\n",
    "var = 'Jadi String'\n",
    "print(var)"
   ]
  },
  {
   "cell_type": "markdown",
   "id": "c45c5b1e",
   "metadata": {},
   "source": [
    "### Naming Rules"
   ]
  },
  {
   "cell_type": "code",
   "execution_count": 18,
   "id": "0347ff52",
   "metadata": {},
   "outputs": [
    {
     "name": "stdout",
     "output_type": "stream",
     "text": [
      "Hacktiv8 69 True\n"
     ]
    }
   ],
   "source": [
    "name = 'Hacktiv8'\n",
    "Age = 69\n",
    "has_laptop = True\n",
    "\n",
    "print(name, Age, has_laptop)"
   ]
  },
  {
   "cell_type": "code",
   "execution_count": 19,
   "id": "5d4c3073",
   "metadata": {},
   "outputs": [],
   "source": [
    "sins_7 = True"
   ]
  },
  {
   "cell_type": "code",
   "execution_count": 20,
   "id": "cf3294e4",
   "metadata": {},
   "outputs": [
    {
     "name": "stdout",
     "output_type": "stream",
     "text": [
      "1 2 3 4 5\n"
     ]
    }
   ],
   "source": [
    "age = 1\n",
    "Age = 2\n",
    "aGe = 3\n",
    "AGE = 4\n",
    "a_g_e = 5\n",
    "print(age, Age, aGe, AGE, a_g_e)"
   ]
  },
  {
   "cell_type": "code",
   "execution_count": 21,
   "id": "cfb20e06",
   "metadata": {},
   "outputs": [],
   "source": [
    "# camelCase\n",
    "tinggiBadan = 170.0\n",
    "hasPhoneOrLaptop = True\n",
    "\n",
    "# PascalCase\n",
    "TinggiBadan = 168.0\n",
    "HasPhoneOrLaptop = False\n",
    "\n",
    "# snake_case\n",
    "tinggi_badan = 160.0\n",
    "has_phone_or_laptop = True"
   ]
  },
  {
   "cell_type": "code",
   "execution_count": 22,
   "id": "64ae5167",
   "metadata": {},
   "outputs": [
    {
     "name": "stdout",
     "output_type": "stream",
     "text": [
      "170.0 True\n",
      "168.0 False\n",
      "160.0 True\n"
     ]
    }
   ],
   "source": [
    "print(tinggiBadan, hasPhoneOrLaptop)\n",
    "print(TinggiBadan, HasPhoneOrLaptop)\n",
    "print(tinggi_badan, has_phone_or_laptop)"
   ]
  },
  {
   "cell_type": "markdown",
   "id": "35f999dd",
   "metadata": {},
   "source": [
    "## Operators and Expression\n"
   ]
  },
  {
   "cell_type": "code",
   "execution_count": 23,
   "id": "06e64dbc",
   "metadata": {},
   "outputs": [
    {
     "data": {
      "text/plain": [
       "30"
      ]
     },
     "execution_count": 23,
     "metadata": {},
     "output_type": "execute_result"
    }
   ],
   "source": [
    "a = 10\n",
    "b = 20\n",
    "a+b"
   ]
  },
  {
   "cell_type": "markdown",
   "id": "856b91cc",
   "metadata": {},
   "source": [
    "### Aritmethic Operators"
   ]
  },
  {
   "cell_type": "code",
   "execution_count": 24,
   "id": "6c03b32c",
   "metadata": {},
   "outputs": [
    {
     "name": "stdout",
     "output_type": "stream",
     "text": [
      "7\n",
      "1\n",
      "12\n",
      "1.3333333333333333\n",
      "1\n",
      "64\n",
      "20\n"
     ]
    }
   ],
   "source": [
    "a = 4\n",
    "b = 3\n",
    "\n",
    "print(a + b)\n",
    "print(a - b)\n",
    "print(a * b)\n",
    "print(a / b)\n",
    "print(a % b)\n",
    "print(a ** b)\n",
    "\n",
    "print(62 // 3)"
   ]
  },
  {
   "cell_type": "code",
   "execution_count": 25,
   "id": "854eccb7",
   "metadata": {},
   "outputs": [
    {
     "data": {
      "text/plain": [
       "2.0"
      ]
     },
     "execution_count": 25,
     "metadata": {},
     "output_type": "execute_result"
    }
   ],
   "source": [
    "10 / 5"
   ]
  },
  {
   "cell_type": "markdown",
   "id": "284254e0",
   "metadata": {},
   "source": [
    "### Comparison Operators"
   ]
  },
  {
   "cell_type": "code",
   "execution_count": 26,
   "id": "34945008",
   "metadata": {},
   "outputs": [
    {
     "name": "stdout",
     "output_type": "stream",
     "text": [
      "False\n",
      "True\n",
      "True\n",
      "False\n",
      "True\n",
      "False\n"
     ]
    }
   ],
   "source": [
    "a = 10\n",
    "b = 20\n",
    "\n",
    "print(a == b)\n",
    "print(a != b)\n",
    "print(a <= b)\n",
    "print(a >= b)\n",
    "\n",
    "print(a < b)\n",
    "print(a > b)"
   ]
  },
  {
   "cell_type": "code",
   "execution_count": 27,
   "id": "155ceb95",
   "metadata": {},
   "outputs": [
    {
     "name": "stdout",
     "output_type": "stream",
     "text": [
      "True\n",
      "True\n",
      "True\n"
     ]
    }
   ],
   "source": [
    "a = 30\n",
    "b = 30\n",
    "\n",
    "print(a == b)\n",
    "print(a <= b)\n",
    "print(a >= b)"
   ]
  },
  {
   "cell_type": "markdown",
   "id": "add1d0f1",
   "metadata": {},
   "source": [
    "## String Manipulation"
   ]
  },
  {
   "cell_type": "code",
   "execution_count": 28,
   "id": "144b908f",
   "metadata": {},
   "outputs": [
    {
     "name": "stdout",
     "output_type": "stream",
     "text": [
      "foobarbaz\n"
     ]
    }
   ],
   "source": [
    "s = 'foo'\n",
    "t = 'bar'\n",
    "u = 'baz'\n",
    "print(s+t+u)"
   ]
  },
  {
   "cell_type": "code",
   "execution_count": 29,
   "id": "4ce216ad",
   "metadata": {},
   "outputs": [
    {
     "data": {
      "text/plain": [
       "'foofoofoofoo'"
      ]
     },
     "execution_count": 29,
     "metadata": {},
     "output_type": "execute_result"
    }
   ],
   "source": [
    "s*4"
   ]
  },
  {
   "cell_type": "code",
   "execution_count": 30,
   "id": "54fcf65c",
   "metadata": {},
   "outputs": [
    {
     "name": "stdout",
     "output_type": "stream",
     "text": [
      "False\n"
     ]
    }
   ],
   "source": [
    "print(s in 'That good for us')"
   ]
  },
  {
   "cell_type": "code",
   "execution_count": 31,
   "id": "224be019",
   "metadata": {},
   "outputs": [],
   "source": [
    "s = 'HackTIV8 Python test'"
   ]
  },
  {
   "cell_type": "code",
   "execution_count": 32,
   "id": "5efda6f6",
   "metadata": {},
   "outputs": [
    {
     "name": "stdout",
     "output_type": "stream",
     "text": [
      "Hacktiv8 python test\n"
     ]
    }
   ],
   "source": [
    "print(s.capitalize())"
   ]
  },
  {
   "cell_type": "code",
   "execution_count": 33,
   "id": "89189589",
   "metadata": {},
   "outputs": [
    {
     "name": "stdout",
     "output_type": "stream",
     "text": [
      "hacktiv8 python test\n"
     ]
    }
   ],
   "source": [
    "print(s.lower())"
   ]
  },
  {
   "cell_type": "code",
   "execution_count": 34,
   "id": "3b3e4563",
   "metadata": {},
   "outputs": [
    {
     "name": "stdout",
     "output_type": "stream",
     "text": [
      "hACKtiv8 pYTHON TEST\n",
      "Hacktiv8 Python Test\n",
      "HACKTIV8 PYTHON TEST\n"
     ]
    }
   ],
   "source": [
    "print(s.swapcase())\n",
    "print(s.title())\n",
    "print(s.upper())"
   ]
  },
  {
   "cell_type": "markdown",
   "id": "6caa6e4b",
   "metadata": {},
   "source": [
    "## List"
   ]
  },
  {
   "cell_type": "code",
   "execution_count": 35,
   "id": "ce931704",
   "metadata": {},
   "outputs": [
    {
     "data": {
      "text/plain": [
       "list"
      ]
     },
     "execution_count": 35,
     "metadata": {},
     "output_type": "execute_result"
    }
   ],
   "source": [
    "var = ['foo', 'bar', 'baz', 'qux']\n",
    "var2 = ['bar', 'foo', 'baz', 'qux']\n",
    "type(var)"
   ]
  },
  {
   "cell_type": "code",
   "execution_count": 36,
   "id": "e862fdc6",
   "metadata": {},
   "outputs": [
    {
     "data": {
      "text/plain": [
       "False"
      ]
     },
     "execution_count": 36,
     "metadata": {},
     "output_type": "execute_result"
    }
   ],
   "source": [
    "var == var2"
   ]
  },
  {
   "cell_type": "code",
   "execution_count": 37,
   "id": "2e5896c4",
   "metadata": {},
   "outputs": [],
   "source": [
    "var3 = [420, 'text', True, 6.9, 'test']"
   ]
  },
  {
   "cell_type": "code",
   "execution_count": 38,
   "id": "299aaf47",
   "metadata": {},
   "outputs": [
    {
     "name": "stdout",
     "output_type": "stream",
     "text": [
      "420  is  <class 'int'>\n",
      "text  is  <class 'str'>\n",
      "True  is  <class 'bool'>\n",
      "6.9  is  <class 'float'>\n",
      "test  is  <class 'str'>\n"
     ]
    }
   ],
   "source": [
    "for item in var3:\n",
    "    print(item, ' is ', type(item))"
   ]
  },
  {
   "cell_type": "code",
   "execution_count": 39,
   "id": "7488e8d4",
   "metadata": {},
   "outputs": [
    {
     "name": "stdout",
     "output_type": "stream",
     "text": [
      "420\n",
      "6.9\n",
      "test\n"
     ]
    }
   ],
   "source": [
    "print(var3[0])\n",
    "print(var3[3])\n",
    "print(var3[4])"
   ]
  },
  {
   "cell_type": "code",
   "execution_count": 40,
   "id": "1d996d5d",
   "metadata": {},
   "outputs": [
    {
     "name": "stdout",
     "output_type": "stream",
     "text": [
      "test\n"
     ]
    }
   ],
   "source": [
    "print(var3[-1])"
   ]
  },
  {
   "cell_type": "code",
   "execution_count": 41,
   "id": "4ccdc35e",
   "metadata": {},
   "outputs": [
    {
     "name": "stdout",
     "output_type": "stream",
     "text": [
      "['text', True, 6.9]\n"
     ]
    }
   ],
   "source": [
    "print(var3[1:4])"
   ]
  },
  {
   "cell_type": "code",
   "execution_count": 42,
   "id": "dc160133",
   "metadata": {},
   "outputs": [
    {
     "name": "stdout",
     "output_type": "stream",
     "text": [
      "[420, 'text', True, 6.9, 'test', 'grault', 'graply']\n"
     ]
    }
   ],
   "source": [
    "print(var3 + ['grault', 'graply'])"
   ]
  },
  {
   "cell_type": "code",
   "execution_count": 43,
   "id": "164e1c37",
   "metadata": {},
   "outputs": [],
   "source": [
    "var3 = var3 + ['grault', 'graply']"
   ]
  },
  {
   "cell_type": "code",
   "execution_count": 44,
   "id": "61fa3d43",
   "metadata": {},
   "outputs": [
    {
     "data": {
      "text/plain": [
       "[420, 'text', True, 6.9, 'test', 'grault', 'graply']"
      ]
     },
     "execution_count": 44,
     "metadata": {},
     "output_type": "execute_result"
    }
   ],
   "source": [
    "var3"
   ]
  },
  {
   "cell_type": "code",
   "execution_count": 46,
   "id": "7a06797b",
   "metadata": {},
   "outputs": [
    {
     "name": "stdout",
     "output_type": "stream",
     "text": [
      "[420, 'text', True, 20, 'test', 'grault', 'graply', 420, 'text', True, 20, 'test', 'grault', 'graply']\n",
      "7\n",
      "bar\n",
      "qux\n"
     ]
    }
   ],
   "source": [
    "print(var3 * 2)\n",
    "print(len(var3))\n",
    "print(min(var2))\n",
    "print(max(var2))\n",
    "var3[3] = 20"
   ]
  },
  {
   "cell_type": "code",
   "execution_count": 47,
   "id": "209f80aa",
   "metadata": {},
   "outputs": [
    {
     "data": {
      "text/plain": [
       "[420, 'text', True, 20, 'test', 'grault', 'graply']"
      ]
     },
     "execution_count": 47,
     "metadata": {},
     "output_type": "execute_result"
    }
   ],
   "source": [
    "var3"
   ]
  },
  {
   "cell_type": "code",
   "execution_count": 48,
   "id": "e0cacda3",
   "metadata": {},
   "outputs": [],
   "source": [
    "var3[-1] = 'grape'"
   ]
  },
  {
   "cell_type": "code",
   "execution_count": 49,
   "id": "64845641",
   "metadata": {},
   "outputs": [],
   "source": [
    "del var3[-3]"
   ]
  },
  {
   "cell_type": "code",
   "execution_count": 50,
   "id": "03801388",
   "metadata": {},
   "outputs": [
    {
     "data": {
      "text/plain": [
       "[420, 'text', True, 20, 'grault', 'grape']"
      ]
     },
     "execution_count": 50,
     "metadata": {},
     "output_type": "execute_result"
    }
   ],
   "source": [
    "var3"
   ]
  },
  {
   "cell_type": "code",
   "execution_count": 51,
   "id": "b17b51a3",
   "metadata": {},
   "outputs": [],
   "source": [
    "var3[2:4] = [False, False, 7.5]"
   ]
  },
  {
   "cell_type": "code",
   "execution_count": 52,
   "id": "1b2071df",
   "metadata": {},
   "outputs": [
    {
     "data": {
      "text/plain": [
       "[420, 'text', False, False, 7.5, 'grault', 'grape']"
      ]
     },
     "execution_count": 52,
     "metadata": {},
     "output_type": "execute_result"
    }
   ],
   "source": [
    "var3"
   ]
  },
  {
   "cell_type": "markdown",
   "id": "2f5f1b61",
   "metadata": {},
   "source": [
    "## Tuple"
   ]
  },
  {
   "cell_type": "code",
   "execution_count": 53,
   "id": "20b5d609",
   "metadata": {},
   "outputs": [
    {
     "name": "stdout",
     "output_type": "stream",
     "text": [
      "('foo', 'bar', 'baz', 'qux', 'quux', 'corge')\n"
     ]
    },
    {
     "data": {
      "text/plain": [
       "tuple"
      ]
     },
     "execution_count": 53,
     "metadata": {},
     "output_type": "execute_result"
    }
   ],
   "source": [
    "t = ('foo', 'bar', 'baz', 'qux', 'quux', 'corge')\n",
    "print(t)\n",
    "type(t)"
   ]
  },
  {
   "cell_type": "code",
   "execution_count": 54,
   "id": "ecf9cabb",
   "metadata": {},
   "outputs": [
    {
     "name": "stdout",
     "output_type": "stream",
     "text": [
      "foo\n",
      "quux\n"
     ]
    }
   ],
   "source": [
    "print(t[0])\n",
    "print(t[-2])"
   ]
  },
  {
   "cell_type": "code",
   "execution_count": 55,
   "id": "35376efb",
   "metadata": {},
   "outputs": [
    {
     "name": "stdout",
     "output_type": "stream",
     "text": [
      "foo\n",
      "bar\n",
      "baz\n",
      "qux\n",
      "quux\n",
      "corge\n"
     ]
    }
   ],
   "source": [
    "s1, s2, s3, s4, s5, s6 = t\n",
    "print(s1)\n",
    "print(s2)\n",
    "print(s3)\n",
    "print(s4)\n",
    "print(s5)\n",
    "print(s6)"
   ]
  },
  {
   "cell_type": "markdown",
   "id": "d6aec651",
   "metadata": {},
   "source": [
    "## Dictionary"
   ]
  },
  {
   "cell_type": "code",
   "execution_count": 56,
   "id": "3e9bfe89",
   "metadata": {},
   "outputs": [
    {
     "data": {
      "text/plain": [
       "'Rockies'"
      ]
     },
     "execution_count": 56,
     "metadata": {},
     "output_type": "execute_result"
    }
   ],
   "source": [
    "MLB_team = {\n",
    "    'Colorado' : 'Rockies',\n",
    "    'Boston' : 'Red Sox',\n",
    "    'Minnesota' : 'Twins'\n",
    "}\n",
    "MLB_team['Colorado']"
   ]
  },
  {
   "cell_type": "code",
   "execution_count": 57,
   "id": "84ce88e7",
   "metadata": {},
   "outputs": [
    {
     "data": {
      "text/plain": [
       "'Twins'"
      ]
     },
     "execution_count": 57,
     "metadata": {},
     "output_type": "execute_result"
    }
   ],
   "source": [
    "MLB_team['Minnesota']"
   ]
  },
  {
   "cell_type": "code",
   "execution_count": 58,
   "id": "e5c2d14e",
   "metadata": {},
   "outputs": [],
   "source": [
    "MLB_team['Kansas City'] = 'Royals'"
   ]
  },
  {
   "cell_type": "code",
   "execution_count": 59,
   "id": "71591c31",
   "metadata": {},
   "outputs": [
    {
     "data": {
      "text/plain": [
       "{'Colorado': 'Rockies',\n",
       " 'Boston': 'Red Sox',\n",
       " 'Minnesota': 'Twins',\n",
       " 'Kansas City': 'Royals'}"
      ]
     },
     "execution_count": 59,
     "metadata": {},
     "output_type": "execute_result"
    }
   ],
   "source": [
    "MLB_team"
   ]
  },
  {
   "cell_type": "code",
   "execution_count": 60,
   "id": "9e6e4673",
   "metadata": {},
   "outputs": [
    {
     "data": {
      "text/plain": [
       "{'Colorado': 'Rockies',\n",
       " 'Boston': 'RedSox',\n",
       " 'Minnesota': 'Twins',\n",
       " 'Kansas City': 'Royals'}"
      ]
     },
     "execution_count": 60,
     "metadata": {},
     "output_type": "execute_result"
    }
   ],
   "source": [
    "MLB_team['Boston'] = 'RedSox'\n",
    "MLB_team"
   ]
  },
  {
   "cell_type": "code",
   "execution_count": 61,
   "id": "6c5040ad",
   "metadata": {},
   "outputs": [
    {
     "data": {
      "text/plain": [
       "{'Colorado': 'Rockies', 'Boston': 'RedSox', 'Kansas City': 'Royals'}"
      ]
     },
     "execution_count": 61,
     "metadata": {},
     "output_type": "execute_result"
    }
   ],
   "source": [
    "del MLB_team['Minnesota']\n",
    "MLB_team"
   ]
  },
  {
   "cell_type": "code",
   "execution_count": 62,
   "id": "820745b1",
   "metadata": {},
   "outputs": [
    {
     "data": {
      "text/plain": [
       "dict"
      ]
     },
     "execution_count": 62,
     "metadata": {},
     "output_type": "execute_result"
    }
   ],
   "source": [
    "person = {}\n",
    "type(person)"
   ]
  },
  {
   "cell_type": "code",
   "execution_count": 63,
   "id": "68a65e70",
   "metadata": {},
   "outputs": [
    {
     "data": {
      "text/plain": [
       "{'fname': 'Hack',\n",
       " 'lname': 'PTP',\n",
       " 'Age': 51,\n",
       " 'spouse': 'Edna',\n",
       " 'children': ['Ralph', 'Betty', 'Joey'],\n",
       " 'pets': {'dog': 'Fido', 'cat': 'Sox'}}"
      ]
     },
     "execution_count": 63,
     "metadata": {},
     "output_type": "execute_result"
    }
   ],
   "source": [
    "person['fname'] = 'Hack'\n",
    "person['lname'] = 'PTP'\n",
    "person['Age'] = 51\n",
    "person['spouse'] = 'Edna'\n",
    "person['children'] = ['Ralph', 'Betty', 'Joey']\n",
    "person['pets'] = {\n",
    "    'dog' : 'Fido',\n",
    "    'cat' : 'Sox'\n",
    "}\n",
    "person"
   ]
  },
  {
   "cell_type": "code",
   "execution_count": 64,
   "id": "29bc9dd3",
   "metadata": {},
   "outputs": [
    {
     "name": "stdout",
     "output_type": "stream",
     "text": [
      "Hack\n",
      "51\n"
     ]
    }
   ],
   "source": [
    "print(person['fname'])\n",
    "print(person['Age'])"
   ]
  },
  {
   "cell_type": "code",
   "execution_count": 65,
   "id": "45c9ff57",
   "metadata": {},
   "outputs": [
    {
     "data": {
      "text/plain": [
       "'Betty'"
      ]
     },
     "execution_count": 65,
     "metadata": {},
     "output_type": "execute_result"
    }
   ],
   "source": [
    "person['children'][1]"
   ]
  },
  {
   "cell_type": "code",
   "execution_count": 66,
   "id": "059fa8f7",
   "metadata": {},
   "outputs": [
    {
     "data": {
      "text/plain": [
       "'Sox'"
      ]
     },
     "execution_count": 66,
     "metadata": {},
     "output_type": "execute_result"
    }
   ],
   "source": [
    "person['pets']['cat']"
   ]
  },
  {
   "cell_type": "code",
   "execution_count": 67,
   "id": "e84b3f12",
   "metadata": {},
   "outputs": [
    {
     "name": "stdout",
     "output_type": "stream",
     "text": [
      "dict_items([('fname', 'Hack'), ('lname', 'PTP'), ('Age', 51), ('spouse', 'Edna'), ('children', ['Ralph', 'Betty', 'Joey']), ('pets', {'dog': 'Fido', 'cat': 'Sox'})])\n"
     ]
    }
   ],
   "source": [
    "print(person.items())"
   ]
  },
  {
   "cell_type": "code",
   "execution_count": 68,
   "id": "f4fc71dd",
   "metadata": {},
   "outputs": [
    {
     "name": "stdout",
     "output_type": "stream",
     "text": [
      "dict_keys(['fname', 'lname', 'Age', 'spouse', 'children', 'pets'])\n"
     ]
    }
   ],
   "source": [
    "print(person.keys())"
   ]
  },
  {
   "cell_type": "code",
   "execution_count": 69,
   "id": "1eb1c7bf",
   "metadata": {},
   "outputs": [
    {
     "name": "stdout",
     "output_type": "stream",
     "text": [
      "dict_values(['Hack', 'PTP', 51, 'Edna', ['Ralph', 'Betty', 'Joey'], {'dog': 'Fido', 'cat': 'Sox'}])\n"
     ]
    }
   ],
   "source": [
    "print(person.values())"
   ]
  },
  {
   "cell_type": "markdown",
   "id": "1d13a82b",
   "metadata": {},
   "source": [
    "## Line Continuation"
   ]
  },
  {
   "cell_type": "code",
   "execution_count": 70,
   "id": "5474b1d9",
   "metadata": {},
   "outputs": [
    {
     "data": {
      "text/plain": [
       "True"
      ]
     },
     "execution_count": 70,
     "metadata": {},
     "output_type": "execute_result"
    }
   ],
   "source": [
    "person1_age= 42\n",
    "person2_age = 16\n",
    "person3_age = 71\n",
    "benarkah = (person1_age >=18 and person1_age <= 65) or (person2_age >=18 and person2_age <= 65) or (person3_age >=18 and person3_age <= 65)\n",
    "benarkah"
   ]
  }
 ],
 "metadata": {
  "kernelspec": {
   "display_name": "Python 3 (ipykernel)",
   "language": "python",
   "name": "python3"
  },
  "language_info": {
   "codemirror_mode": {
    "name": "ipython",
    "version": 3
   },
   "file_extension": ".py",
   "mimetype": "text/x-python",
   "name": "python",
   "nbconvert_exporter": "python",
   "pygments_lexer": "ipython3",
   "version": "3.11.4"
  },
  "toc": {
   "base_numbering": 1,
   "nav_menu": {},
   "number_sections": false,
   "sideBar": true,
   "skip_h1_title": false,
   "title_cell": "Table of Contents",
   "title_sidebar": "Contents",
   "toc_cell": false,
   "toc_position": {
    "height": "calc(100% - 180px)",
    "left": "10px",
    "top": "150px",
    "width": "246.396px"
   },
   "toc_section_display": true,
   "toc_window_display": false
  },
  "varInspector": {
   "cols": {
    "lenName": 16,
    "lenType": 16,
    "lenVar": 40
   },
   "kernels_config": {
    "python": {
     "delete_cmd_postfix": "",
     "delete_cmd_prefix": "del ",
     "library": "var_list.py",
     "varRefreshCmd": "print(var_dic_list())"
    },
    "r": {
     "delete_cmd_postfix": ") ",
     "delete_cmd_prefix": "rm(",
     "library": "var_list.r",
     "varRefreshCmd": "cat(var_dic_list()) "
    }
   },
   "types_to_exclude": [
    "module",
    "function",
    "builtin_function_or_method",
    "instance",
    "_Feature"
   ],
   "window_display": false
  }
 },
 "nbformat": 4,
 "nbformat_minor": 5
}
