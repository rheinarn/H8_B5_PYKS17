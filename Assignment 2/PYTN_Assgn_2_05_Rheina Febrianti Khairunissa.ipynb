{
 "cells": [
  {
   "cell_type": "markdown",
   "id": "b638c607",
   "metadata": {},
   "source": [
    "# Assignment Python 2 \n",
    "___\n",
    "Rheina Febrianti Khairunissa <br>\n",
    "PYTN-KS17-014"
   ]
  },
  {
   "cell_type": "code",
   "execution_count": 1,
   "id": "66e69dc3",
   "metadata": {},
   "outputs": [],
   "source": [
    "import pandas as pd\n",
    "import math\n",
    "import statistics\n",
    "import numpy as np\n",
    "import scipy.stats\n",
    "import matplotlib.pyplot as plt\n",
    "import seaborn as sns"
   ]
  },
  {
   "cell_type": "code",
   "execution_count": 2,
   "id": "a7c58c19",
   "metadata": {},
   "outputs": [
    {
     "name": "stdout",
     "output_type": "stream",
     "text": [
      "Data berhasil diinput!\n"
     ]
    }
   ],
   "source": [
    "df = pd.read_csv('nyc-rolling-sales.csv')\n",
    "print('Data berhasil diinput!')"
   ]
  },
  {
   "cell_type": "code",
   "execution_count": 3,
   "id": "e935bee4",
   "metadata": {},
   "outputs": [
    {
     "data": {
      "text/html": [
       "<div>\n",
       "<style scoped>\n",
       "    .dataframe tbody tr th:only-of-type {\n",
       "        vertical-align: middle;\n",
       "    }\n",
       "\n",
       "    .dataframe tbody tr th {\n",
       "        vertical-align: top;\n",
       "    }\n",
       "\n",
       "    .dataframe thead th {\n",
       "        text-align: right;\n",
       "    }\n",
       "</style>\n",
       "<table border=\"1\" class=\"dataframe\">\n",
       "  <thead>\n",
       "    <tr style=\"text-align: right;\">\n",
       "      <th></th>\n",
       "      <th>Unnamed: 0</th>\n",
       "      <th>BOROUGH</th>\n",
       "      <th>NEIGHBORHOOD</th>\n",
       "      <th>BUILDING CLASS CATEGORY</th>\n",
       "      <th>TAX CLASS AT PRESENT</th>\n",
       "      <th>BLOCK</th>\n",
       "      <th>LOT</th>\n",
       "      <th>EASE-MENT</th>\n",
       "      <th>BUILDING CLASS AT PRESENT</th>\n",
       "      <th>ADDRESS</th>\n",
       "      <th>...</th>\n",
       "      <th>RESIDENTIAL UNITS</th>\n",
       "      <th>COMMERCIAL UNITS</th>\n",
       "      <th>TOTAL UNITS</th>\n",
       "      <th>LAND SQUARE FEET</th>\n",
       "      <th>GROSS SQUARE FEET</th>\n",
       "      <th>YEAR BUILT</th>\n",
       "      <th>TAX CLASS AT TIME OF SALE</th>\n",
       "      <th>BUILDING CLASS AT TIME OF SALE</th>\n",
       "      <th>SALE PRICE</th>\n",
       "      <th>SALE DATE</th>\n",
       "    </tr>\n",
       "  </thead>\n",
       "  <tbody>\n",
       "    <tr>\n",
       "      <th>0</th>\n",
       "      <td>4</td>\n",
       "      <td>1</td>\n",
       "      <td>ALPHABET CITY</td>\n",
       "      <td>07 RENTALS - WALKUP APARTMENTS</td>\n",
       "      <td>2A</td>\n",
       "      <td>392</td>\n",
       "      <td>6</td>\n",
       "      <td></td>\n",
       "      <td>C2</td>\n",
       "      <td>153 AVENUE B</td>\n",
       "      <td>...</td>\n",
       "      <td>5</td>\n",
       "      <td>0</td>\n",
       "      <td>5</td>\n",
       "      <td>1633</td>\n",
       "      <td>6440</td>\n",
       "      <td>1900</td>\n",
       "      <td>2</td>\n",
       "      <td>C2</td>\n",
       "      <td>6625000</td>\n",
       "      <td>2017-07-19 00:00:00</td>\n",
       "    </tr>\n",
       "    <tr>\n",
       "      <th>1</th>\n",
       "      <td>5</td>\n",
       "      <td>1</td>\n",
       "      <td>ALPHABET CITY</td>\n",
       "      <td>07 RENTALS - WALKUP APARTMENTS</td>\n",
       "      <td>2</td>\n",
       "      <td>399</td>\n",
       "      <td>26</td>\n",
       "      <td></td>\n",
       "      <td>C7</td>\n",
       "      <td>234 EAST 4TH   STREET</td>\n",
       "      <td>...</td>\n",
       "      <td>28</td>\n",
       "      <td>3</td>\n",
       "      <td>31</td>\n",
       "      <td>4616</td>\n",
       "      <td>18690</td>\n",
       "      <td>1900</td>\n",
       "      <td>2</td>\n",
       "      <td>C7</td>\n",
       "      <td>-</td>\n",
       "      <td>2016-12-14 00:00:00</td>\n",
       "    </tr>\n",
       "    <tr>\n",
       "      <th>2</th>\n",
       "      <td>6</td>\n",
       "      <td>1</td>\n",
       "      <td>ALPHABET CITY</td>\n",
       "      <td>07 RENTALS - WALKUP APARTMENTS</td>\n",
       "      <td>2</td>\n",
       "      <td>399</td>\n",
       "      <td>39</td>\n",
       "      <td></td>\n",
       "      <td>C7</td>\n",
       "      <td>197 EAST 3RD   STREET</td>\n",
       "      <td>...</td>\n",
       "      <td>16</td>\n",
       "      <td>1</td>\n",
       "      <td>17</td>\n",
       "      <td>2212</td>\n",
       "      <td>7803</td>\n",
       "      <td>1900</td>\n",
       "      <td>2</td>\n",
       "      <td>C7</td>\n",
       "      <td>-</td>\n",
       "      <td>2016-12-09 00:00:00</td>\n",
       "    </tr>\n",
       "    <tr>\n",
       "      <th>3</th>\n",
       "      <td>7</td>\n",
       "      <td>1</td>\n",
       "      <td>ALPHABET CITY</td>\n",
       "      <td>07 RENTALS - WALKUP APARTMENTS</td>\n",
       "      <td>2B</td>\n",
       "      <td>402</td>\n",
       "      <td>21</td>\n",
       "      <td></td>\n",
       "      <td>C4</td>\n",
       "      <td>154 EAST 7TH STREET</td>\n",
       "      <td>...</td>\n",
       "      <td>10</td>\n",
       "      <td>0</td>\n",
       "      <td>10</td>\n",
       "      <td>2272</td>\n",
       "      <td>6794</td>\n",
       "      <td>1913</td>\n",
       "      <td>2</td>\n",
       "      <td>C4</td>\n",
       "      <td>3936272</td>\n",
       "      <td>2016-09-23 00:00:00</td>\n",
       "    </tr>\n",
       "    <tr>\n",
       "      <th>4</th>\n",
       "      <td>8</td>\n",
       "      <td>1</td>\n",
       "      <td>ALPHABET CITY</td>\n",
       "      <td>07 RENTALS - WALKUP APARTMENTS</td>\n",
       "      <td>2A</td>\n",
       "      <td>404</td>\n",
       "      <td>55</td>\n",
       "      <td></td>\n",
       "      <td>C2</td>\n",
       "      <td>301 EAST 10TH   STREET</td>\n",
       "      <td>...</td>\n",
       "      <td>6</td>\n",
       "      <td>0</td>\n",
       "      <td>6</td>\n",
       "      <td>2369</td>\n",
       "      <td>4615</td>\n",
       "      <td>1900</td>\n",
       "      <td>2</td>\n",
       "      <td>C2</td>\n",
       "      <td>8000000</td>\n",
       "      <td>2016-11-17 00:00:00</td>\n",
       "    </tr>\n",
       "  </tbody>\n",
       "</table>\n",
       "<p>5 rows × 22 columns</p>\n",
       "</div>"
      ],
      "text/plain": [
       "   Unnamed: 0  BOROUGH   NEIGHBORHOOD  \\\n",
       "0           4        1  ALPHABET CITY   \n",
       "1           5        1  ALPHABET CITY   \n",
       "2           6        1  ALPHABET CITY   \n",
       "3           7        1  ALPHABET CITY   \n",
       "4           8        1  ALPHABET CITY   \n",
       "\n",
       "                       BUILDING CLASS CATEGORY TAX CLASS AT PRESENT  BLOCK  \\\n",
       "0  07 RENTALS - WALKUP APARTMENTS                                2A    392   \n",
       "1  07 RENTALS - WALKUP APARTMENTS                                 2    399   \n",
       "2  07 RENTALS - WALKUP APARTMENTS                                 2    399   \n",
       "3  07 RENTALS - WALKUP APARTMENTS                                2B    402   \n",
       "4  07 RENTALS - WALKUP APARTMENTS                                2A    404   \n",
       "\n",
       "   LOT EASE-MENT BUILDING CLASS AT PRESENT                 ADDRESS  ...  \\\n",
       "0    6                                  C2            153 AVENUE B  ...   \n",
       "1   26                                  C7   234 EAST 4TH   STREET  ...   \n",
       "2   39                                  C7   197 EAST 3RD   STREET  ...   \n",
       "3   21                                  C4     154 EAST 7TH STREET  ...   \n",
       "4   55                                  C2  301 EAST 10TH   STREET  ...   \n",
       "\n",
       "  RESIDENTIAL UNITS  COMMERCIAL UNITS  TOTAL UNITS  LAND SQUARE FEET  \\\n",
       "0                 5                 0            5              1633   \n",
       "1                28                 3           31              4616   \n",
       "2                16                 1           17              2212   \n",
       "3                10                 0           10              2272   \n",
       "4                 6                 0            6              2369   \n",
       "\n",
       "   GROSS SQUARE FEET YEAR BUILT TAX CLASS AT TIME OF SALE  \\\n",
       "0               6440       1900                         2   \n",
       "1              18690       1900                         2   \n",
       "2               7803       1900                         2   \n",
       "3               6794       1913                         2   \n",
       "4               4615       1900                         2   \n",
       "\n",
       "   BUILDING CLASS AT TIME OF SALE  SALE PRICE            SALE DATE  \n",
       "0                              C2     6625000  2017-07-19 00:00:00  \n",
       "1                              C7         -    2016-12-14 00:00:00  \n",
       "2                              C7         -    2016-12-09 00:00:00  \n",
       "3                              C4     3936272  2016-09-23 00:00:00  \n",
       "4                              C2     8000000  2016-11-17 00:00:00  \n",
       "\n",
       "[5 rows x 22 columns]"
      ]
     },
     "execution_count": 3,
     "metadata": {},
     "output_type": "execute_result"
    }
   ],
   "source": [
    "df.head()"
   ]
  },
  {
   "cell_type": "code",
   "execution_count": 4,
   "id": "4f588a8f",
   "metadata": {},
   "outputs": [
    {
     "data": {
      "text/html": [
       "<div>\n",
       "<style scoped>\n",
       "    .dataframe tbody tr th:only-of-type {\n",
       "        vertical-align: middle;\n",
       "    }\n",
       "\n",
       "    .dataframe tbody tr th {\n",
       "        vertical-align: top;\n",
       "    }\n",
       "\n",
       "    .dataframe thead th {\n",
       "        text-align: right;\n",
       "    }\n",
       "</style>\n",
       "<table border=\"1\" class=\"dataframe\">\n",
       "  <thead>\n",
       "    <tr style=\"text-align: right;\">\n",
       "      <th></th>\n",
       "      <th>Unnamed: 0</th>\n",
       "      <th>BOROUGH</th>\n",
       "      <th>NEIGHBORHOOD</th>\n",
       "      <th>BUILDING CLASS CATEGORY</th>\n",
       "      <th>TAX CLASS AT PRESENT</th>\n",
       "      <th>BLOCK</th>\n",
       "      <th>LOT</th>\n",
       "      <th>EASE-MENT</th>\n",
       "      <th>BUILDING CLASS AT PRESENT</th>\n",
       "      <th>ADDRESS</th>\n",
       "      <th>...</th>\n",
       "      <th>RESIDENTIAL UNITS</th>\n",
       "      <th>COMMERCIAL UNITS</th>\n",
       "      <th>TOTAL UNITS</th>\n",
       "      <th>LAND SQUARE FEET</th>\n",
       "      <th>GROSS SQUARE FEET</th>\n",
       "      <th>YEAR BUILT</th>\n",
       "      <th>TAX CLASS AT TIME OF SALE</th>\n",
       "      <th>BUILDING CLASS AT TIME OF SALE</th>\n",
       "      <th>SALE PRICE</th>\n",
       "      <th>SALE DATE</th>\n",
       "    </tr>\n",
       "  </thead>\n",
       "  <tbody>\n",
       "    <tr>\n",
       "      <th>84543</th>\n",
       "      <td>8409</td>\n",
       "      <td>5</td>\n",
       "      <td>WOODROW</td>\n",
       "      <td>02 TWO FAMILY DWELLINGS</td>\n",
       "      <td>1</td>\n",
       "      <td>7349</td>\n",
       "      <td>34</td>\n",
       "      <td></td>\n",
       "      <td>B9</td>\n",
       "      <td>37 QUAIL LANE</td>\n",
       "      <td>...</td>\n",
       "      <td>2</td>\n",
       "      <td>0</td>\n",
       "      <td>2</td>\n",
       "      <td>2400</td>\n",
       "      <td>2575</td>\n",
       "      <td>1998</td>\n",
       "      <td>1</td>\n",
       "      <td>B9</td>\n",
       "      <td>450000</td>\n",
       "      <td>2016-11-28 00:00:00</td>\n",
       "    </tr>\n",
       "    <tr>\n",
       "      <th>84544</th>\n",
       "      <td>8410</td>\n",
       "      <td>5</td>\n",
       "      <td>WOODROW</td>\n",
       "      <td>02 TWO FAMILY DWELLINGS</td>\n",
       "      <td>1</td>\n",
       "      <td>7349</td>\n",
       "      <td>78</td>\n",
       "      <td></td>\n",
       "      <td>B9</td>\n",
       "      <td>32 PHEASANT LANE</td>\n",
       "      <td>...</td>\n",
       "      <td>2</td>\n",
       "      <td>0</td>\n",
       "      <td>2</td>\n",
       "      <td>2498</td>\n",
       "      <td>2377</td>\n",
       "      <td>1998</td>\n",
       "      <td>1</td>\n",
       "      <td>B9</td>\n",
       "      <td>550000</td>\n",
       "      <td>2017-04-21 00:00:00</td>\n",
       "    </tr>\n",
       "    <tr>\n",
       "      <th>84545</th>\n",
       "      <td>8411</td>\n",
       "      <td>5</td>\n",
       "      <td>WOODROW</td>\n",
       "      <td>02 TWO FAMILY DWELLINGS</td>\n",
       "      <td>1</td>\n",
       "      <td>7351</td>\n",
       "      <td>60</td>\n",
       "      <td></td>\n",
       "      <td>B2</td>\n",
       "      <td>49 PITNEY AVENUE</td>\n",
       "      <td>...</td>\n",
       "      <td>2</td>\n",
       "      <td>0</td>\n",
       "      <td>2</td>\n",
       "      <td>4000</td>\n",
       "      <td>1496</td>\n",
       "      <td>1925</td>\n",
       "      <td>1</td>\n",
       "      <td>B2</td>\n",
       "      <td>460000</td>\n",
       "      <td>2017-07-05 00:00:00</td>\n",
       "    </tr>\n",
       "    <tr>\n",
       "      <th>84546</th>\n",
       "      <td>8412</td>\n",
       "      <td>5</td>\n",
       "      <td>WOODROW</td>\n",
       "      <td>22 STORE BUILDINGS</td>\n",
       "      <td>4</td>\n",
       "      <td>7100</td>\n",
       "      <td>28</td>\n",
       "      <td></td>\n",
       "      <td>K6</td>\n",
       "      <td>2730 ARTHUR KILL ROAD</td>\n",
       "      <td>...</td>\n",
       "      <td>0</td>\n",
       "      <td>7</td>\n",
       "      <td>7</td>\n",
       "      <td>208033</td>\n",
       "      <td>64117</td>\n",
       "      <td>2001</td>\n",
       "      <td>4</td>\n",
       "      <td>K6</td>\n",
       "      <td>11693337</td>\n",
       "      <td>2016-12-21 00:00:00</td>\n",
       "    </tr>\n",
       "    <tr>\n",
       "      <th>84547</th>\n",
       "      <td>8413</td>\n",
       "      <td>5</td>\n",
       "      <td>WOODROW</td>\n",
       "      <td>35 INDOOR PUBLIC AND CULTURAL FACILITIES</td>\n",
       "      <td>4</td>\n",
       "      <td>7105</td>\n",
       "      <td>679</td>\n",
       "      <td></td>\n",
       "      <td>P9</td>\n",
       "      <td>155 CLAY PIT ROAD</td>\n",
       "      <td>...</td>\n",
       "      <td>0</td>\n",
       "      <td>1</td>\n",
       "      <td>1</td>\n",
       "      <td>10796</td>\n",
       "      <td>2400</td>\n",
       "      <td>2006</td>\n",
       "      <td>4</td>\n",
       "      <td>P9</td>\n",
       "      <td>69300</td>\n",
       "      <td>2016-10-27 00:00:00</td>\n",
       "    </tr>\n",
       "  </tbody>\n",
       "</table>\n",
       "<p>5 rows × 22 columns</p>\n",
       "</div>"
      ],
      "text/plain": [
       "       Unnamed: 0  BOROUGH NEIGHBORHOOD  \\\n",
       "84543        8409        5      WOODROW   \n",
       "84544        8410        5      WOODROW   \n",
       "84545        8411        5      WOODROW   \n",
       "84546        8412        5      WOODROW   \n",
       "84547        8413        5      WOODROW   \n",
       "\n",
       "                           BUILDING CLASS CATEGORY TAX CLASS AT PRESENT  \\\n",
       "84543  02 TWO FAMILY DWELLINGS                                        1   \n",
       "84544  02 TWO FAMILY DWELLINGS                                        1   \n",
       "84545  02 TWO FAMILY DWELLINGS                                        1   \n",
       "84546  22 STORE BUILDINGS                                             4   \n",
       "84547  35 INDOOR PUBLIC AND CULTURAL FACILITIES                       4   \n",
       "\n",
       "       BLOCK  LOT EASE-MENT BUILDING CLASS AT PRESENT                ADDRESS  \\\n",
       "84543   7349   34                                  B9          37 QUAIL LANE   \n",
       "84544   7349   78                                  B9       32 PHEASANT LANE   \n",
       "84545   7351   60                                  B2       49 PITNEY AVENUE   \n",
       "84546   7100   28                                  K6  2730 ARTHUR KILL ROAD   \n",
       "84547   7105  679                                  P9      155 CLAY PIT ROAD   \n",
       "\n",
       "       ... RESIDENTIAL UNITS  COMMERCIAL UNITS  TOTAL UNITS  LAND SQUARE FEET  \\\n",
       "84543  ...                 2                 0            2              2400   \n",
       "84544  ...                 2                 0            2              2498   \n",
       "84545  ...                 2                 0            2              4000   \n",
       "84546  ...                 0                 7            7            208033   \n",
       "84547  ...                 0                 1            1             10796   \n",
       "\n",
       "       GROSS SQUARE FEET YEAR BUILT TAX CLASS AT TIME OF SALE  \\\n",
       "84543               2575       1998                         1   \n",
       "84544               2377       1998                         1   \n",
       "84545               1496       1925                         1   \n",
       "84546              64117       2001                         4   \n",
       "84547               2400       2006                         4   \n",
       "\n",
       "       BUILDING CLASS AT TIME OF SALE  SALE PRICE            SALE DATE  \n",
       "84543                              B9      450000  2016-11-28 00:00:00  \n",
       "84544                              B9      550000  2017-04-21 00:00:00  \n",
       "84545                              B2      460000  2017-07-05 00:00:00  \n",
       "84546                              K6    11693337  2016-12-21 00:00:00  \n",
       "84547                              P9       69300  2016-10-27 00:00:00  \n",
       "\n",
       "[5 rows x 22 columns]"
      ]
     },
     "execution_count": 4,
     "metadata": {},
     "output_type": "execute_result"
    }
   ],
   "source": [
    "df.tail()"
   ]
  },
  {
   "attachments": {
    "image.png": {
     "image/png": "[encoded data removed]"
    }
   },
   "cell_type": "markdown",
   "id": "048d0f26",
   "metadata": {},
   "source": [
    "![image.png](attachment:image.png)"
   ]
  },
  {
   "cell_type": "code",
   "execution_count": 5,
   "id": "f1fb7e99",
   "metadata": {},
   "outputs": [
    {
     "name": "stdout",
     "output_type": "stream",
     "text": [
      "<class 'pandas.core.frame.DataFrame'>\n",
      "RangeIndex: 84548 entries, 0 to 84547\n",
      "Data columns (total 22 columns):\n",
      " #   Column                          Non-Null Count  Dtype \n",
      "---  ------                          --------------  ----- \n",
      " 0   Unnamed: 0                      84548 non-null  int64 \n",
      " 1   BOROUGH                         84548 non-null  int64 \n",
      " 2   NEIGHBORHOOD                    84548 non-null  object\n",
      " 3   BUILDING CLASS CATEGORY         84548 non-null  object\n",
      " 4   TAX CLASS AT PRESENT            84548 non-null  object\n",
      " 5   BLOCK                           84548 non-null  int64 \n",
      " 6   LOT                             84548 non-null  int64 \n",
      " 7   EASE-MENT                       84548 non-null  object\n",
      " 8   BUILDING CLASS AT PRESENT       84548 non-null  object\n",
      " 9   ADDRESS                         84548 non-null  object\n",
      " 10  APARTMENT NUMBER                84548 non-null  object\n",
      " 11  ZIP CODE                        84548 non-null  int64 \n",
      " 12  RESIDENTIAL UNITS               84548 non-null  int64 \n",
      " 13  COMMERCIAL UNITS                84548 non-null  int64 \n",
      " 14  TOTAL UNITS                     84548 non-null  int64 \n",
      " 15  LAND SQUARE FEET                84548 non-null  object\n",
      " 16  GROSS SQUARE FEET               84548 non-null  object\n",
      " 17  YEAR BUILT                      84548 non-null  int64 \n",
      " 18  TAX CLASS AT TIME OF SALE       84548 non-null  int64 \n",
      " 19  BUILDING CLASS AT TIME OF SALE  84548 non-null  object\n",
      " 20  SALE PRICE                      84548 non-null  object\n",
      " 21  SALE DATE                       84548 non-null  object\n",
      "dtypes: int64(10), object(12)\n",
      "memory usage: 14.2+ MB\n"
     ]
    }
   ],
   "source": [
    "df.info()"
   ]
  },
  {
   "cell_type": "code",
   "execution_count": 6,
   "id": "ff9507bc",
   "metadata": {},
   "outputs": [
    {
     "data": {
      "text/plain": [
       "(84548, 22)"
      ]
     },
     "execution_count": 6,
     "metadata": {},
     "output_type": "execute_result"
    }
   ],
   "source": [
    "df.shape"
   ]
  },
  {
   "cell_type": "code",
   "execution_count": 7,
   "id": "61ece544",
   "metadata": {},
   "outputs": [
    {
     "data": {
      "text/plain": [
       "array(['Unnamed: 0', 'BOROUGH', 'NEIGHBORHOOD', 'BUILDING CLASS CATEGORY',\n",
       "       'TAX CLASS AT PRESENT', 'BLOCK', 'LOT', 'EASE-MENT',\n",
       "       'BUILDING CLASS AT PRESENT', 'ADDRESS', 'APARTMENT NUMBER',\n",
       "       'ZIP CODE', 'RESIDENTIAL UNITS', 'COMMERCIAL UNITS', 'TOTAL UNITS',\n",
       "       'LAND SQUARE FEET', 'GROSS SQUARE FEET', 'YEAR BUILT',\n",
       "       'TAX CLASS AT TIME OF SALE', 'BUILDING CLASS AT TIME OF SALE',\n",
       "       'SALE PRICE', 'SALE DATE'], dtype=object)"
      ]
     },
     "execution_count": 7,
     "metadata": {},
     "output_type": "execute_result"
    }
   ],
   "source": [
    "df.columns.values"
   ]
  },
  {
   "cell_type": "markdown",
   "id": "e8a6248c",
   "metadata": {},
   "source": [
    " Drop atau Hilangkan Kolom yang Tidak Relevan"
   ]
  },
  {
   "cell_type": "code",
   "execution_count": 8,
   "id": "108d1e2f",
   "metadata": {
    "scrolled": true
   },
   "outputs": [],
   "source": [
    "df.drop([\"Unnamed: 0\"], axis=1, inplace=True)"
   ]
  },
  {
   "cell_type": "markdown",
   "id": "c52791c4",
   "metadata": {},
   "source": [
    "Mengubah tipe data"
   ]
  },
  {
   "cell_type": "code",
   "execution_count": 9,
   "id": "d8998138",
   "metadata": {},
   "outputs": [],
   "source": [
    "df['SALE DATE']= pd.to_datetime(df['SALE DATE'], errors='coerce')"
   ]
  },
  {
   "cell_type": "code",
   "execution_count": 10,
   "id": "14acbf5a",
   "metadata": {},
   "outputs": [],
   "source": [
    "numeric = [\"RESIDENTIAL UNITS\",\"COMMERCIAL UNITS\",\"TOTAL UNITS\", \"LAND SQUARE FEET\" , \"GROSS SQUARE FEET\",\"SALE PRICE\" ]\n",
    "\n",
    "for col in numeric: \n",
    "    df[col] = pd.to_numeric(df[col], errors='coerce')"
   ]
  },
  {
   "cell_type": "code",
   "execution_count": 11,
   "id": "4a5728a2",
   "metadata": {},
   "outputs": [],
   "source": [
    "categorical = [\"BOROUGH\",\"NEIGHBORHOOD\",'BUILDING CLASS CATEGORY', 'TAX CLASS AT PRESENT', 'BUILDING CLASS AT PRESENT','ZIP CODE', \n",
    "               'YEAR BUILT', 'BUILDING CLASS AT TIME OF SALE', 'TAX CLASS AT TIME OF SALE']\n",
    "\n",
    "for col in categorical: \n",
    "    df[col] = df[col].astype(\"category\")"
   ]
  },
  {
   "cell_type": "code",
   "execution_count": 12,
   "id": "1ce381f7",
   "metadata": {
    "scrolled": true
   },
   "outputs": [
    {
     "name": "stdout",
     "output_type": "stream",
     "text": [
      "<class 'pandas.core.frame.DataFrame'>\n",
      "RangeIndex: 84548 entries, 0 to 84547\n",
      "Data columns (total 21 columns):\n",
      " #   Column                          Non-Null Count  Dtype         \n",
      "---  ------                          --------------  -----         \n",
      " 0   BOROUGH                         84548 non-null  category      \n",
      " 1   NEIGHBORHOOD                    84548 non-null  category      \n",
      " 2   BUILDING CLASS CATEGORY         84548 non-null  category      \n",
      " 3   TAX CLASS AT PRESENT            84548 non-null  category      \n",
      " 4   BLOCK                           84548 non-null  int64         \n",
      " 5   LOT                             84548 non-null  int64         \n",
      " 6   EASE-MENT                       84548 non-null  object        \n",
      " 7   BUILDING CLASS AT PRESENT       84548 non-null  category      \n",
      " 8   ADDRESS                         84548 non-null  object        \n",
      " 9   APARTMENT NUMBER                84548 non-null  object        \n",
      " 10  ZIP CODE                        84548 non-null  category      \n",
      " 11  RESIDENTIAL UNITS               84548 non-null  int64         \n",
      " 12  COMMERCIAL UNITS                84548 non-null  int64         \n",
      " 13  TOTAL UNITS                     84548 non-null  int64         \n",
      " 14  LAND SQUARE FEET                58296 non-null  float64       \n",
      " 15  GROSS SQUARE FEET               56936 non-null  float64       \n",
      " 16  YEAR BUILT                      84548 non-null  category      \n",
      " 17  TAX CLASS AT TIME OF SALE       84548 non-null  category      \n",
      " 18  BUILDING CLASS AT TIME OF SALE  84548 non-null  category      \n",
      " 19  SALE PRICE                      69987 non-null  float64       \n",
      " 20  SALE DATE                       84548 non-null  datetime64[ns]\n",
      "dtypes: category(9), datetime64[ns](1), float64(3), int64(5), object(3)\n",
      "memory usage: 8.9+ MB\n"
     ]
    }
   ],
   "source": [
    "df.info()"
   ]
  },
  {
   "cell_type": "markdown",
   "id": "57bf0816",
   "metadata": {},
   "source": [
    "Check Missing Value"
   ]
  },
  {
   "cell_type": "code",
   "execution_count": 13,
   "id": "fdcca634",
   "metadata": {},
   "outputs": [
    {
     "data": {
      "text/plain": [
       "BOROUGH                           0.000000\n",
       "NEIGHBORHOOD                      0.000000\n",
       "BUILDING CLASS CATEGORY           0.000000\n",
       "TAX CLASS AT PRESENT              0.000000\n",
       "BLOCK                             0.000000\n",
       "LOT                               0.000000\n",
       "EASE-MENT                         0.000000\n",
       "BUILDING CLASS AT PRESENT         0.000000\n",
       "ADDRESS                           0.000000\n",
       "APARTMENT NUMBER                  0.000000\n",
       "ZIP CODE                          0.000000\n",
       "RESIDENTIAL UNITS                 0.000000\n",
       "COMMERCIAL UNITS                  0.000000\n",
       "TOTAL UNITS                       0.000000\n",
       "LAND SQUARE FEET                  0.310498\n",
       "GROSS SQUARE FEET                 0.326584\n",
       "YEAR BUILT                        0.000000\n",
       "TAX CLASS AT TIME OF SALE         0.000000\n",
       "BUILDING CLASS AT TIME OF SALE    0.000000\n",
       "SALE PRICE                        0.172222\n",
       "SALE DATE                         0.000000\n",
       "dtype: float64"
      ]
     },
     "execution_count": 13,
     "metadata": {},
     "output_type": "execute_result"
    }
   ],
   "source": [
    "df.isna().sum()/len(df)"
   ]
  },
  {
   "cell_type": "code",
   "execution_count": 14,
   "id": "424611dc",
   "metadata": {
    "scrolled": true
   },
   "outputs": [
    {
     "data": {
      "text/plain": [
       "BOROUGH                           0.000000\n",
       "NEIGHBORHOOD                      0.000000\n",
       "BUILDING CLASS CATEGORY           0.000000\n",
       "TAX CLASS AT PRESENT              0.008729\n",
       "BLOCK                             0.000000\n",
       "LOT                               0.000000\n",
       "EASE-MENT                         1.000000\n",
       "BUILDING CLASS AT PRESENT         0.008729\n",
       "ADDRESS                           0.000000\n",
       "APARTMENT NUMBER                  0.774661\n",
       "ZIP CODE                          0.000000\n",
       "RESIDENTIAL UNITS                 0.000000\n",
       "COMMERCIAL UNITS                  0.000000\n",
       "TOTAL UNITS                       0.000000\n",
       "LAND SQUARE FEET                  0.310498\n",
       "GROSS SQUARE FEET                 0.326584\n",
       "YEAR BUILT                        0.000000\n",
       "TAX CLASS AT TIME OF SALE         0.000000\n",
       "BUILDING CLASS AT TIME OF SALE    0.000000\n",
       "SALE PRICE                        0.172222\n",
       "SALE DATE                         0.000000\n",
       "dtype: float64"
      ]
     },
     "execution_count": 14,
     "metadata": {},
     "output_type": "execute_result"
    }
   ],
   "source": [
    "df.replace(' ',np.nan, inplace=True)\n",
    "df.isna().sum() /len(df)"
   ]
  },
  {
   "cell_type": "code",
   "execution_count": 15,
   "id": "c466112c",
   "metadata": {},
   "outputs": [
    {
     "data": {
      "text/plain": [
       "765"
      ]
     },
     "execution_count": 15,
     "metadata": {},
     "output_type": "execute_result"
    }
   ],
   "source": [
    "df.duplicated().sum()"
   ]
  },
  {
   "cell_type": "code",
   "execution_count": 16,
   "id": "450aef4d",
   "metadata": {},
   "outputs": [],
   "source": [
    "df.drop_duplicates(inplace=True)"
   ]
  },
  {
   "cell_type": "code",
   "execution_count": 17,
   "id": "f6b2f126",
   "metadata": {},
   "outputs": [],
   "source": [
    "df.drop([\"EASE-MENT\",\"APARTMENT NUMBER\"], axis=1, inplace=True)"
   ]
  },
  {
   "cell_type": "code",
   "execution_count": 18,
   "id": "e3f7be7d",
   "metadata": {},
   "outputs": [
    {
     "name": "stderr",
     "output_type": "stream",
     "text": [
      "C:\\Users\\RHEINA\\AppData\\Local\\Temp\\ipykernel_11288\\3081074228.py:1: FutureWarning: The default value of numeric_only in DataFrame.skew is deprecated. In a future version, it will default to False. In addition, specifying 'numeric_only=None' is deprecated. Select only valid columns or specify the value of numeric_only to silence this warning.\n",
      "  df.skew(axis=0, skipna=True)\n"
     ]
    },
    {
     "data": {
      "text/plain": [
       "BLOCK                  1.046322\n",
       "LOT                    3.506785\n",
       "RESIDENTIAL UNITS     62.058053\n",
       "COMMERCIAL UNITS     224.990028\n",
       "TOTAL UNITS           65.249327\n",
       "LAND SQUARE FEET      75.762320\n",
       "GROSS SQUARE FEET     61.121216\n",
       "SALE PRICE           123.943132\n",
       "dtype: float64"
      ]
     },
     "execution_count": 18,
     "metadata": {},
     "output_type": "execute_result"
    }
   ],
   "source": [
    "df.skew(axis=0, skipna=True)"
   ]
  },
  {
   "cell_type": "code",
   "execution_count": 19,
   "id": "9129c5a7",
   "metadata": {},
   "outputs": [],
   "source": [
    "df[\"TAX CLASS AT PRESENT\"]=df[\"TAX CLASS AT PRESENT\"].fillna(df[\"TAX CLASS AT PRESENT\"].mode())\n",
    "df[\"BUILDING CLASS AT PRESENT\"]=df[\"BUILDING CLASS AT PRESENT\"].fillna(df[\"BUILDING CLASS AT PRESENT\"].mode())\n",
    "df[\"LAND SQUARE FEET\"]=df[\"LAND SQUARE FEET\"].fillna(df[\"LAND SQUARE FEET\"].median())\n",
    "df[\"GROSS SQUARE FEET\"]=df[\"GROSS SQUARE FEET\"].fillna(df[\"GROSS SQUARE FEET\"].median())\n",
    "df[\"SALE PRICE\"]=df[\"SALE PRICE\"].fillna(df[\"SALE PRICE\"].median())"
   ]
  },
  {
   "cell_type": "code",
   "execution_count": 20,
   "id": "96281c9e",
   "metadata": {},
   "outputs": [
    {
     "data": {
      "text/plain": [
       "BOROUGH                           0.000000\n",
       "NEIGHBORHOOD                      0.000000\n",
       "BUILDING CLASS CATEGORY           0.000000\n",
       "TAX CLASS AT PRESENT              0.008808\n",
       "BLOCK                             0.000000\n",
       "LOT                               0.000000\n",
       "BUILDING CLASS AT PRESENT         0.008808\n",
       "ADDRESS                           0.000000\n",
       "ZIP CODE                          0.000000\n",
       "RESIDENTIAL UNITS                 0.000000\n",
       "COMMERCIAL UNITS                  0.000000\n",
       "TOTAL UNITS                       0.000000\n",
       "LAND SQUARE FEET                  0.000000\n",
       "GROSS SQUARE FEET                 0.000000\n",
       "YEAR BUILT                        0.000000\n",
       "TAX CLASS AT TIME OF SALE         0.000000\n",
       "BUILDING CLASS AT TIME OF SALE    0.000000\n",
       "SALE PRICE                        0.000000\n",
       "SALE DATE                         0.000000\n",
       "dtype: float64"
      ]
     },
     "execution_count": 20,
     "metadata": {},
     "output_type": "execute_result"
    }
   ],
   "source": [
    "df.isna().sum()/len(df)"
   ]
  },
  {
   "cell_type": "code",
   "execution_count": 21,
   "id": "08111ed1",
   "metadata": {},
   "outputs": [
    {
     "data": {
      "text/plain": [
       "0        1900\n",
       "3        1913\n",
       "6        1920\n",
       "10       1910\n",
       "11       2009\n",
       "         ... \n",
       "33557    1871\n",
       "39533    1893\n",
       "44615    1865\n",
       "45042    1882\n",
       "81875    1680\n",
       "Name: YEAR BUILT, Length: 158, dtype: category\n",
       "Categories (158, int64): [0, 1111, 1680, 1800, ..., 2014, 2015, 2016, 2017]"
      ]
     },
     "execution_count": 21,
     "metadata": {},
     "output_type": "execute_result"
    }
   ],
   "source": [
    "sv = df['YEAR BUILT'].drop_duplicates()\n",
    "sv"
   ]
  },
  {
   "cell_type": "code",
   "execution_count": 22,
   "id": "4f1a5399",
   "metadata": {
    "scrolled": false
   },
   "outputs": [
    {
     "data": {
      "text/html": [
       "<div>\n",
       "<style scoped>\n",
       "    .dataframe tbody tr th:only-of-type {\n",
       "        vertical-align: middle;\n",
       "    }\n",
       "\n",
       "    .dataframe tbody tr th {\n",
       "        vertical-align: top;\n",
       "    }\n",
       "\n",
       "    .dataframe thead th {\n",
       "        text-align: right;\n",
       "    }\n",
       "</style>\n",
       "<table border=\"1\" class=\"dataframe\">\n",
       "  <thead>\n",
       "    <tr style=\"text-align: right;\">\n",
       "      <th></th>\n",
       "      <th>BLOCK</th>\n",
       "      <th>LOT</th>\n",
       "      <th>RESIDENTIAL UNITS</th>\n",
       "      <th>COMMERCIAL UNITS</th>\n",
       "      <th>TOTAL UNITS</th>\n",
       "      <th>LAND SQUARE FEET</th>\n",
       "      <th>GROSS SQUARE FEET</th>\n",
       "      <th>SALE PRICE</th>\n",
       "    </tr>\n",
       "  </thead>\n",
       "  <tbody>\n",
       "    <tr>\n",
       "      <th>count</th>\n",
       "      <td>83783.000000</td>\n",
       "      <td>83783.000000</td>\n",
       "      <td>83783.000000</td>\n",
       "      <td>83783.000000</td>\n",
       "      <td>83783.000000</td>\n",
       "      <td>8.378300e+04</td>\n",
       "      <td>8.378300e+04</td>\n",
       "      <td>8.378300e+04</td>\n",
       "    </tr>\n",
       "    <tr>\n",
       "      <th>mean</th>\n",
       "      <td>4242.903155</td>\n",
       "      <td>376.137415</td>\n",
       "      <td>1.999976</td>\n",
       "      <td>0.183677</td>\n",
       "      <td>2.213504</td>\n",
       "      <td>3.375438e+03</td>\n",
       "      <td>3.170620e+03</td>\n",
       "      <td>1.154192e+06</td>\n",
       "    </tr>\n",
       "    <tr>\n",
       "      <th>std</th>\n",
       "      <td>3568.789482</td>\n",
       "      <td>658.021286</td>\n",
       "      <td>16.569118</td>\n",
       "      <td>8.576582</td>\n",
       "      <td>18.777727</td>\n",
       "      <td>3.449485e+04</td>\n",
       "      <td>2.860114e+04</td>\n",
       "      <td>1.042234e+07</td>\n",
       "    </tr>\n",
       "    <tr>\n",
       "      <th>min</th>\n",
       "      <td>1.000000</td>\n",
       "      <td>1.000000</td>\n",
       "      <td>0.000000</td>\n",
       "      <td>0.000000</td>\n",
       "      <td>0.000000</td>\n",
       "      <td>0.000000e+00</td>\n",
       "      <td>0.000000e+00</td>\n",
       "      <td>0.000000e+00</td>\n",
       "    </tr>\n",
       "    <tr>\n",
       "      <th>25%</th>\n",
       "      <td>1326.000000</td>\n",
       "      <td>22.000000</td>\n",
       "      <td>0.000000</td>\n",
       "      <td>0.000000</td>\n",
       "      <td>1.000000</td>\n",
       "      <td>2.000000e+03</td>\n",
       "      <td>1.344000e+03</td>\n",
       "      <td>3.000000e+05</td>\n",
       "    </tr>\n",
       "    <tr>\n",
       "      <th>50%</th>\n",
       "      <td>3319.000000</td>\n",
       "      <td>50.000000</td>\n",
       "      <td>1.000000</td>\n",
       "      <td>0.000000</td>\n",
       "      <td>1.000000</td>\n",
       "      <td>2.314000e+03</td>\n",
       "      <td>1.680000e+03</td>\n",
       "      <td>5.330000e+05</td>\n",
       "    </tr>\n",
       "    <tr>\n",
       "      <th>75%</th>\n",
       "      <td>6295.000000</td>\n",
       "      <td>1001.000000</td>\n",
       "      <td>2.000000</td>\n",
       "      <td>0.000000</td>\n",
       "      <td>2.000000</td>\n",
       "      <td>2.650000e+03</td>\n",
       "      <td>2.080000e+03</td>\n",
       "      <td>8.350000e+05</td>\n",
       "    </tr>\n",
       "    <tr>\n",
       "      <th>max</th>\n",
       "      <td>16322.000000</td>\n",
       "      <td>9106.000000</td>\n",
       "      <td>1844.000000</td>\n",
       "      <td>2261.000000</td>\n",
       "      <td>2261.000000</td>\n",
       "      <td>4.252327e+06</td>\n",
       "      <td>3.750565e+06</td>\n",
       "      <td>2.210000e+09</td>\n",
       "    </tr>\n",
       "  </tbody>\n",
       "</table>\n",
       "</div>"
      ],
      "text/plain": [
       "              BLOCK           LOT  RESIDENTIAL UNITS  COMMERCIAL UNITS  \\\n",
       "count  83783.000000  83783.000000       83783.000000      83783.000000   \n",
       "mean    4242.903155    376.137415           1.999976          0.183677   \n",
       "std     3568.789482    658.021286          16.569118          8.576582   \n",
       "min        1.000000      1.000000           0.000000          0.000000   \n",
       "25%     1326.000000     22.000000           0.000000          0.000000   \n",
       "50%     3319.000000     50.000000           1.000000          0.000000   \n",
       "75%     6295.000000   1001.000000           2.000000          0.000000   \n",
       "max    16322.000000   9106.000000        1844.000000       2261.000000   \n",
       "\n",
       "        TOTAL UNITS  LAND SQUARE FEET  GROSS SQUARE FEET    SALE PRICE  \n",
       "count  83783.000000      8.378300e+04       8.378300e+04  8.378300e+04  \n",
       "mean       2.213504      3.375438e+03       3.170620e+03  1.154192e+06  \n",
       "std       18.777727      3.449485e+04       2.860114e+04  1.042234e+07  \n",
       "min        0.000000      0.000000e+00       0.000000e+00  0.000000e+00  \n",
       "25%        1.000000      2.000000e+03       1.344000e+03  3.000000e+05  \n",
       "50%        1.000000      2.314000e+03       1.680000e+03  5.330000e+05  \n",
       "75%        2.000000      2.650000e+03       2.080000e+03  8.350000e+05  \n",
       "max     2261.000000      4.252327e+06       3.750565e+06  2.210000e+09  "
      ]
     },
     "execution_count": 22,
     "metadata": {},
     "output_type": "execute_result"
    }
   ],
   "source": [
    "df.describe()"
   ]
  },
  {
   "cell_type": "code",
   "execution_count": 23,
   "id": "2d3e83b7",
   "metadata": {},
   "outputs": [
    {
     "name": "stdout",
     "output_type": "stream",
     "text": [
      "YEAR BUILT '0' Count:  6885\n",
      "TOTAL UNIT '0' Count:  19677\n",
      "SALE PRICE '0' Count:  10012\n"
     ]
    }
   ],
   "source": [
    "print(\"YEAR BUILT '0' Count: \",df[df['YEAR BUILT']==0]['YEAR BUILT'].count())\n",
    "print(\"TOTAL UNIT '0' Count: \",df[df['TOTAL UNITS']==0]['TOTAL UNITS'].count())\n",
    "print(\"SALE PRICE '0' Count: \",df[df['SALE PRICE']==0]['SALE PRICE'].count())"
   ]
  },
  {
   "cell_type": "markdown",
   "id": "5a9272af",
   "metadata": {},
   "source": [
    "Menghilangkan value bernilai '0'"
   ]
  },
  {
   "cell_type": "code",
   "execution_count": 24,
   "id": "06f037db",
   "metadata": {},
   "outputs": [],
   "source": [
    "df['YEAR BUILT'].replace(0, np.nan, inplace=True)\n",
    "df['TOTAL UNITS'].replace(0, np.nan, inplace=True)\n",
    "df['SALE PRICE'].replace(0, np.nan, inplace=True)"
   ]
  },
  {
   "cell_type": "code",
   "execution_count": 25,
   "id": "3bf278fe",
   "metadata": {
    "scrolled": true
   },
   "outputs": [
    {
     "name": "stdout",
     "output_type": "stream",
     "text": [
      "YEAR BUILT '0' Count:  0\n",
      "TOTAL UNIT '0' Count:  0\n",
      "SALE PRICE '0' Count:  0\n"
     ]
    }
   ],
   "source": [
    "print(\"YEAR BUILT '0' Count: \",df[df['YEAR BUILT']==0]['YEAR BUILT'].count())\n",
    "print(\"TOTAL UNIT '0' Count: \",df[df['TOTAL UNITS']==0]['TOTAL UNITS'].count())\n",
    "print(\"SALE PRICE '0' Count: \",df[df['SALE PRICE']==0]['SALE PRICE'].count())"
   ]
  },
  {
   "cell_type": "code",
   "execution_count": 26,
   "id": "9bb56c3d",
   "metadata": {},
   "outputs": [],
   "source": [
    "df.dropna(inplace=True)"
   ]
  },
  {
   "cell_type": "code",
   "execution_count": 27,
   "id": "514d735e",
   "metadata": {},
   "outputs": [
    {
     "name": "stdout",
     "output_type": "stream",
     "text": [
      "<class 'pandas.core.frame.DataFrame'>\n",
      "Int64Index: 51546 entries, 0 to 84547\n",
      "Data columns (total 19 columns):\n",
      " #   Column                          Non-Null Count  Dtype         \n",
      "---  ------                          --------------  -----         \n",
      " 0   BOROUGH                         51546 non-null  category      \n",
      " 1   NEIGHBORHOOD                    51546 non-null  category      \n",
      " 2   BUILDING CLASS CATEGORY         51546 non-null  category      \n",
      " 3   TAX CLASS AT PRESENT            51546 non-null  category      \n",
      " 4   BLOCK                           51546 non-null  int64         \n",
      " 5   LOT                             51546 non-null  int64         \n",
      " 6   BUILDING CLASS AT PRESENT       51546 non-null  category      \n",
      " 7   ADDRESS                         51546 non-null  object        \n",
      " 8   ZIP CODE                        51546 non-null  category      \n",
      " 9   RESIDENTIAL UNITS               51546 non-null  int64         \n",
      " 10  COMMERCIAL UNITS                51546 non-null  int64         \n",
      " 11  TOTAL UNITS                     51546 non-null  float64       \n",
      " 12  LAND SQUARE FEET                51546 non-null  float64       \n",
      " 13  GROSS SQUARE FEET               51546 non-null  float64       \n",
      " 14  YEAR BUILT                      51546 non-null  category      \n",
      " 15  TAX CLASS AT TIME OF SALE       51546 non-null  category      \n",
      " 16  BUILDING CLASS AT TIME OF SALE  51546 non-null  category      \n",
      " 17  SALE PRICE                      51546 non-null  float64       \n",
      " 18  SALE DATE                       51546 non-null  datetime64[ns]\n",
      "dtypes: category(9), datetime64[ns](1), float64(4), int64(4), object(1)\n",
      "memory usage: 5.0+ MB\n"
     ]
    }
   ],
   "source": [
    "df.info()"
   ]
  },
  {
   "cell_type": "code",
   "execution_count": 28,
   "id": "9caab12a",
   "metadata": {},
   "outputs": [
    {
     "data": {
      "image/png": "[encoded data removed]",
      "text/plain": [
       "<Figure size 1000x500 with 1 Axes>"
      ]
     },
     "metadata": {},
     "output_type": "display_data"
    }
   ],
   "source": [
    "plt.figure(figsize=(10,5))\n",
    "sns.boxplot(x=df[\"SALE PRICE\"])\n",
    "plt.xticks(rotation=30)\n",
    "plt.show()"
   ]
  },
  {
   "cell_type": "code",
   "execution_count": 29,
   "id": "fbafb6f9",
   "metadata": {},
   "outputs": [],
   "source": [
    "df = df[(df['SALE PRICE'] > 10000) & (df['SALE PRICE'] < 800000)]"
   ]
  },
  {
   "cell_type": "code",
   "execution_count": 30,
   "id": "60da06a1",
   "metadata": {},
   "outputs": [
    {
     "data": {
      "image/png": "[encoded data removed]",
      "text/plain": [
       "<Figure size 1000x500 with 1 Axes>"
      ]
     },
     "metadata": {},
     "output_type": "display_data"
    }
   ],
   "source": [
    "plt.figure(figsize=(10,5))\n",
    "sns.boxplot(x=df[\"SALE PRICE\"])\n",
    "plt.xticks(rotation=30)\n",
    "plt.show()"
   ]
  },
  {
   "cell_type": "code",
   "execution_count": 31,
   "id": "79086d2b",
   "metadata": {},
   "outputs": [
    {
     "name": "stdout",
     "output_type": "stream",
     "text": [
      "<class 'pandas.core.frame.DataFrame'>\n",
      "Int64Index: 33900 entries, 1 to 84547\n",
      "Data columns (total 19 columns):\n",
      " #   Column                          Non-Null Count  Dtype         \n",
      "---  ------                          --------------  -----         \n",
      " 0   BOROUGH                         33900 non-null  category      \n",
      " 1   NEIGHBORHOOD                    33900 non-null  category      \n",
      " 2   BUILDING CLASS CATEGORY         33900 non-null  category      \n",
      " 3   TAX CLASS AT PRESENT            33900 non-null  category      \n",
      " 4   BLOCK                           33900 non-null  int64         \n",
      " 5   LOT                             33900 non-null  int64         \n",
      " 6   BUILDING CLASS AT PRESENT       33900 non-null  category      \n",
      " 7   ADDRESS                         33900 non-null  object        \n",
      " 8   ZIP CODE                        33900 non-null  category      \n",
      " 9   RESIDENTIAL UNITS               33900 non-null  int64         \n",
      " 10  COMMERCIAL UNITS                33900 non-null  int64         \n",
      " 11  TOTAL UNITS                     33900 non-null  float64       \n",
      " 12  LAND SQUARE FEET                33900 non-null  float64       \n",
      " 13  GROSS SQUARE FEET               33900 non-null  float64       \n",
      " 14  YEAR BUILT                      33900 non-null  category      \n",
      " 15  TAX CLASS AT TIME OF SALE       33900 non-null  category      \n",
      " 16  BUILDING CLASS AT TIME OF SALE  33900 non-null  category      \n",
      " 17  SALE PRICE                      33900 non-null  float64       \n",
      " 18  SALE DATE                       33900 non-null  datetime64[ns]\n",
      "dtypes: category(9), datetime64[ns](1), float64(4), int64(4), object(1)\n",
      "memory usage: 3.3+ MB\n"
     ]
    }
   ],
   "source": [
    "df.info()"
   ]
  },
  {
   "cell_type": "code",
   "execution_count": 32,
   "id": "6a087788",
   "metadata": {
    "scrolled": true
   },
   "outputs": [
    {
     "data": {
      "text/html": [
       "<div>\n",
       "<style scoped>\n",
       "    .dataframe tbody tr th:only-of-type {\n",
       "        vertical-align: middle;\n",
       "    }\n",
       "\n",
       "    .dataframe tbody tr th {\n",
       "        vertical-align: top;\n",
       "    }\n",
       "\n",
       "    .dataframe thead th {\n",
       "        text-align: right;\n",
       "    }\n",
       "</style>\n",
       "<table border=\"1\" class=\"dataframe\">\n",
       "  <thead>\n",
       "    <tr style=\"text-align: right;\">\n",
       "      <th></th>\n",
       "      <th>BOROUGH</th>\n",
       "      <th>NEIGHBORHOOD</th>\n",
       "      <th>BUILDING CLASS CATEGORY</th>\n",
       "      <th>TAX CLASS AT PRESENT</th>\n",
       "      <th>BLOCK</th>\n",
       "      <th>LOT</th>\n",
       "      <th>BUILDING CLASS AT PRESENT</th>\n",
       "      <th>ADDRESS</th>\n",
       "      <th>ZIP CODE</th>\n",
       "      <th>RESIDENTIAL UNITS</th>\n",
       "      <th>COMMERCIAL UNITS</th>\n",
       "      <th>TOTAL UNITS</th>\n",
       "      <th>LAND SQUARE FEET</th>\n",
       "      <th>GROSS SQUARE FEET</th>\n",
       "      <th>YEAR BUILT</th>\n",
       "      <th>TAX CLASS AT TIME OF SALE</th>\n",
       "      <th>BUILDING CLASS AT TIME OF SALE</th>\n",
       "      <th>SALE PRICE</th>\n",
       "      <th>SALE DATE</th>\n",
       "    </tr>\n",
       "  </thead>\n",
       "  <tbody>\n",
       "    <tr>\n",
       "      <th>1</th>\n",
       "      <td>Manhattan</td>\n",
       "      <td>ALPHABET CITY</td>\n",
       "      <td>07 RENTALS - WALKUP APARTMENTS</td>\n",
       "      <td>2</td>\n",
       "      <td>399</td>\n",
       "      <td>26</td>\n",
       "      <td>C7</td>\n",
       "      <td>234 EAST 4TH   STREET</td>\n",
       "      <td>10009</td>\n",
       "      <td>28</td>\n",
       "      <td>3</td>\n",
       "      <td>31.0</td>\n",
       "      <td>4616.0</td>\n",
       "      <td>18690.0</td>\n",
       "      <td>1900</td>\n",
       "      <td>2</td>\n",
       "      <td>C7</td>\n",
       "      <td>533000.0</td>\n",
       "      <td>2016-12-14</td>\n",
       "    </tr>\n",
       "    <tr>\n",
       "      <th>2</th>\n",
       "      <td>Manhattan</td>\n",
       "      <td>ALPHABET CITY</td>\n",
       "      <td>07 RENTALS - WALKUP APARTMENTS</td>\n",
       "      <td>2</td>\n",
       "      <td>399</td>\n",
       "      <td>39</td>\n",
       "      <td>C7</td>\n",
       "      <td>197 EAST 3RD   STREET</td>\n",
       "      <td>10009</td>\n",
       "      <td>16</td>\n",
       "      <td>1</td>\n",
       "      <td>17.0</td>\n",
       "      <td>2212.0</td>\n",
       "      <td>7803.0</td>\n",
       "      <td>1900</td>\n",
       "      <td>2</td>\n",
       "      <td>C7</td>\n",
       "      <td>533000.0</td>\n",
       "      <td>2016-12-09</td>\n",
       "    </tr>\n",
       "    <tr>\n",
       "      <th>5</th>\n",
       "      <td>Manhattan</td>\n",
       "      <td>ALPHABET CITY</td>\n",
       "      <td>07 RENTALS - WALKUP APARTMENTS</td>\n",
       "      <td>2</td>\n",
       "      <td>405</td>\n",
       "      <td>16</td>\n",
       "      <td>C4</td>\n",
       "      <td>516 EAST 12TH   STREET</td>\n",
       "      <td>10009</td>\n",
       "      <td>20</td>\n",
       "      <td>0</td>\n",
       "      <td>20.0</td>\n",
       "      <td>2581.0</td>\n",
       "      <td>9730.0</td>\n",
       "      <td>1900</td>\n",
       "      <td>2</td>\n",
       "      <td>C4</td>\n",
       "      <td>533000.0</td>\n",
       "      <td>2017-07-20</td>\n",
       "    </tr>\n",
       "    <tr>\n",
       "      <th>7</th>\n",
       "      <td>Manhattan</td>\n",
       "      <td>ALPHABET CITY</td>\n",
       "      <td>07 RENTALS - WALKUP APARTMENTS</td>\n",
       "      <td>2</td>\n",
       "      <td>407</td>\n",
       "      <td>18</td>\n",
       "      <td>C7</td>\n",
       "      <td>520 EAST 14TH   STREET</td>\n",
       "      <td>10009</td>\n",
       "      <td>44</td>\n",
       "      <td>2</td>\n",
       "      <td>46.0</td>\n",
       "      <td>5163.0</td>\n",
       "      <td>21007.0</td>\n",
       "      <td>1900</td>\n",
       "      <td>2</td>\n",
       "      <td>C7</td>\n",
       "      <td>533000.0</td>\n",
       "      <td>2017-07-20</td>\n",
       "    </tr>\n",
       "    <tr>\n",
       "      <th>8</th>\n",
       "      <td>Manhattan</td>\n",
       "      <td>ALPHABET CITY</td>\n",
       "      <td>08 RENTALS - ELEVATOR APARTMENTS</td>\n",
       "      <td>2</td>\n",
       "      <td>379</td>\n",
       "      <td>34</td>\n",
       "      <td>D5</td>\n",
       "      <td>141 AVENUE D</td>\n",
       "      <td>10009</td>\n",
       "      <td>15</td>\n",
       "      <td>0</td>\n",
       "      <td>15.0</td>\n",
       "      <td>1534.0</td>\n",
       "      <td>9198.0</td>\n",
       "      <td>1920</td>\n",
       "      <td>2</td>\n",
       "      <td>D5</td>\n",
       "      <td>533000.0</td>\n",
       "      <td>2017-06-20</td>\n",
       "    </tr>\n",
       "  </tbody>\n",
       "</table>\n",
       "</div>"
      ],
      "text/plain": [
       "     BOROUGH   NEIGHBORHOOD                      BUILDING CLASS CATEGORY  \\\n",
       "1  Manhattan  ALPHABET CITY  07 RENTALS - WALKUP APARTMENTS                \n",
       "2  Manhattan  ALPHABET CITY  07 RENTALS - WALKUP APARTMENTS                \n",
       "5  Manhattan  ALPHABET CITY  07 RENTALS - WALKUP APARTMENTS                \n",
       "7  Manhattan  ALPHABET CITY  07 RENTALS - WALKUP APARTMENTS                \n",
       "8  Manhattan  ALPHABET CITY  08 RENTALS - ELEVATOR APARTMENTS              \n",
       "\n",
       "  TAX CLASS AT PRESENT  BLOCK  LOT BUILDING CLASS AT PRESENT  \\\n",
       "1                    2    399   26                        C7   \n",
       "2                    2    399   39                        C7   \n",
       "5                    2    405   16                        C4   \n",
       "7                    2    407   18                        C7   \n",
       "8                    2    379   34                        D5   \n",
       "\n",
       "                  ADDRESS ZIP CODE  RESIDENTIAL UNITS  COMMERCIAL UNITS  \\\n",
       "1   234 EAST 4TH   STREET    10009                 28                 3   \n",
       "2   197 EAST 3RD   STREET    10009                 16                 1   \n",
       "5  516 EAST 12TH   STREET    10009                 20                 0   \n",
       "7  520 EAST 14TH   STREET    10009                 44                 2   \n",
       "8            141 AVENUE D    10009                 15                 0   \n",
       "\n",
       "   TOTAL UNITS  LAND SQUARE FEET  GROSS SQUARE FEET YEAR BUILT  \\\n",
       "1         31.0            4616.0            18690.0       1900   \n",
       "2         17.0            2212.0             7803.0       1900   \n",
       "5         20.0            2581.0             9730.0       1900   \n",
       "7         46.0            5163.0            21007.0       1900   \n",
       "8         15.0            1534.0             9198.0       1920   \n",
       "\n",
       "  TAX CLASS AT TIME OF SALE BUILDING CLASS AT TIME OF SALE  SALE PRICE  \\\n",
       "1                         2                             C7    533000.0   \n",
       "2                         2                             C7    533000.0   \n",
       "5                         2                             C4    533000.0   \n",
       "7                         2                             C7    533000.0   \n",
       "8                         2                             D5    533000.0   \n",
       "\n",
       "   SALE DATE  \n",
       "1 2016-12-14  \n",
       "2 2016-12-09  \n",
       "5 2017-07-20  \n",
       "7 2017-07-20  \n",
       "8 2017-06-20  "
      ]
     },
     "execution_count": 32,
     "metadata": {},
     "output_type": "execute_result"
    }
   ],
   "source": [
    "df['BOROUGH']= df['BOROUGH'].map({1:'Manhattan', 2:'Bronx', 3: 'Brooklyn', 4:'Queens',5:'Staten Island'})\n",
    "df.head()"
   ]
  },
  {
   "cell_type": "markdown",
   "id": "5340b6e2",
   "metadata": {},
   "source": [
    "# Measure of Central Tendency: Mean"
   ]
  },
  {
   "cell_type": "markdown",
   "id": "fd47d744",
   "metadata": {},
   "source": [
    "Menghitung rata-rata/mean Sale Price untuk setiap Borough."
   ]
  },
  {
   "cell_type": "code",
   "execution_count": 33,
   "id": "ea1aa7ca",
   "metadata": {},
   "outputs": [
    {
     "data": {
      "text/html": [
       "<div>\n",
       "<style scoped>\n",
       "    .dataframe tbody tr th:only-of-type {\n",
       "        vertical-align: middle;\n",
       "    }\n",
       "\n",
       "    .dataframe tbody tr th {\n",
       "        vertical-align: top;\n",
       "    }\n",
       "\n",
       "    .dataframe thead th {\n",
       "        text-align: right;\n",
       "    }\n",
       "</style>\n",
       "<table border=\"1\" class=\"dataframe\">\n",
       "  <thead>\n",
       "    <tr style=\"text-align: right;\">\n",
       "      <th></th>\n",
       "      <th>SALE PRICE</th>\n",
       "    </tr>\n",
       "    <tr>\n",
       "      <th>BOROUGH</th>\n",
       "      <th></th>\n",
       "    </tr>\n",
       "  </thead>\n",
       "  <tbody>\n",
       "    <tr>\n",
       "      <th>Bronx</th>\n",
       "      <td>448221.910236</td>\n",
       "    </tr>\n",
       "    <tr>\n",
       "      <th>Staten Island</th>\n",
       "      <td>475511.350783</td>\n",
       "    </tr>\n",
       "    <tr>\n",
       "      <th>Brooklyn</th>\n",
       "      <td>506525.692929</td>\n",
       "    </tr>\n",
       "    <tr>\n",
       "      <th>Queens</th>\n",
       "      <td>512513.827403</td>\n",
       "    </tr>\n",
       "    <tr>\n",
       "      <th>Manhattan</th>\n",
       "      <td>540871.630934</td>\n",
       "    </tr>\n",
       "  </tbody>\n",
       "</table>\n",
       "</div>"
      ],
      "text/plain": [
       "                  SALE PRICE\n",
       "BOROUGH                     \n",
       "Bronx          448221.910236\n",
       "Staten Island  475511.350783\n",
       "Brooklyn       506525.692929\n",
       "Queens         512513.827403\n",
       "Manhattan      540871.630934"
      ]
     },
     "execution_count": 33,
     "metadata": {},
     "output_type": "execute_result"
    }
   ],
   "source": [
    "df_mean = df[['BOROUGH','SALE PRICE']].groupby('BOROUGH').mean().sort_values(by='SALE PRICE', ascending=True)\n",
    "df_mean"
   ]
  },
  {
   "cell_type": "markdown",
   "id": "2b82dcb0",
   "metadata": {},
   "source": [
    "Dari tabel di atas, diperlihatkan bahwa Manhattan memiliki mean atau rata rata sale price tertinggi diantara wilayah lainnya."
   ]
  },
  {
   "cell_type": "markdown",
   "id": "ae589b6c",
   "metadata": {},
   "source": [
    "# Measure of Central Tendency: Median"
   ]
  },
  {
   "cell_type": "markdown",
   "id": "c4c98ba6",
   "metadata": {},
   "source": [
    "Menghitung nilai Median Gross Square Feet & Land Square Feet untuk setiap Borough."
   ]
  },
  {
   "cell_type": "code",
   "execution_count": 34,
   "id": "0c44ad9e",
   "metadata": {
    "scrolled": false
   },
   "outputs": [
    {
     "data": {
      "text/html": [
       "<div>\n",
       "<style scoped>\n",
       "    .dataframe tbody tr th:only-of-type {\n",
       "        vertical-align: middle;\n",
       "    }\n",
       "\n",
       "    .dataframe tbody tr th {\n",
       "        vertical-align: top;\n",
       "    }\n",
       "\n",
       "    .dataframe thead th {\n",
       "        text-align: right;\n",
       "    }\n",
       "</style>\n",
       "<table border=\"1\" class=\"dataframe\">\n",
       "  <thead>\n",
       "    <tr style=\"text-align: right;\">\n",
       "      <th></th>\n",
       "      <th>GROSS SQUARE FEET</th>\n",
       "    </tr>\n",
       "    <tr>\n",
       "      <th>BOROUGH</th>\n",
       "      <th></th>\n",
       "    </tr>\n",
       "  </thead>\n",
       "  <tbody>\n",
       "    <tr>\n",
       "      <th>Brooklyn</th>\n",
       "      <td>1444.0</td>\n",
       "    </tr>\n",
       "    <tr>\n",
       "      <th>Staten Island</th>\n",
       "      <td>1642.0</td>\n",
       "    </tr>\n",
       "    <tr>\n",
       "      <th>Manhattan</th>\n",
       "      <td>1680.0</td>\n",
       "    </tr>\n",
       "    <tr>\n",
       "      <th>Queens</th>\n",
       "      <td>1680.0</td>\n",
       "    </tr>\n",
       "    <tr>\n",
       "      <th>Bronx</th>\n",
       "      <td>1998.0</td>\n",
       "    </tr>\n",
       "  </tbody>\n",
       "</table>\n",
       "</div>"
      ],
      "text/plain": [
       "               GROSS SQUARE FEET\n",
       "BOROUGH                         \n",
       "Brooklyn                  1444.0\n",
       "Staten Island             1642.0\n",
       "Manhattan                 1680.0\n",
       "Queens                    1680.0\n",
       "Bronx                     1998.0"
      ]
     },
     "execution_count": 34,
     "metadata": {},
     "output_type": "execute_result"
    }
   ],
   "source": [
    "df_median = df[['BOROUGH','GROSS SQUARE FEET']].groupby('BOROUGH').median().sort_values(by='GROSS SQUARE FEET', ascending=True)\n",
    "df_median"
   ]
  },
  {
   "cell_type": "code",
   "execution_count": 35,
   "id": "50c938e0",
   "metadata": {},
   "outputs": [
    {
     "data": {
      "text/html": [
       "<div>\n",
       "<style scoped>\n",
       "    .dataframe tbody tr th:only-of-type {\n",
       "        vertical-align: middle;\n",
       "    }\n",
       "\n",
       "    .dataframe tbody tr th {\n",
       "        vertical-align: top;\n",
       "    }\n",
       "\n",
       "    .dataframe thead th {\n",
       "        text-align: right;\n",
       "    }\n",
       "</style>\n",
       "<table border=\"1\" class=\"dataframe\">\n",
       "  <thead>\n",
       "    <tr style=\"text-align: right;\">\n",
       "      <th></th>\n",
       "      <th>LAND SQUARE FEET</th>\n",
       "    </tr>\n",
       "    <tr>\n",
       "      <th>BOROUGH</th>\n",
       "      <th></th>\n",
       "    </tr>\n",
       "  </thead>\n",
       "  <tbody>\n",
       "    <tr>\n",
       "      <th>Brooklyn</th>\n",
       "      <td>1900.0</td>\n",
       "    </tr>\n",
       "    <tr>\n",
       "      <th>Manhattan</th>\n",
       "      <td>2314.0</td>\n",
       "    </tr>\n",
       "    <tr>\n",
       "      <th>Bronx</th>\n",
       "      <td>2490.0</td>\n",
       "    </tr>\n",
       "    <tr>\n",
       "      <th>Queens</th>\n",
       "      <td>2500.0</td>\n",
       "    </tr>\n",
       "    <tr>\n",
       "      <th>Staten Island</th>\n",
       "      <td>3000.0</td>\n",
       "    </tr>\n",
       "  </tbody>\n",
       "</table>\n",
       "</div>"
      ],
      "text/plain": [
       "               LAND SQUARE FEET\n",
       "BOROUGH                        \n",
       "Brooklyn                 1900.0\n",
       "Manhattan                2314.0\n",
       "Bronx                    2490.0\n",
       "Queens                   2500.0\n",
       "Staten Island            3000.0"
      ]
     },
     "execution_count": 35,
     "metadata": {},
     "output_type": "execute_result"
    }
   ],
   "source": [
    "df_median2 = df[['BOROUGH','LAND SQUARE FEET']].groupby('BOROUGH').median().sort_values(by='LAND SQUARE FEET', ascending=True)\n",
    "df_median2"
   ]
  },
  {
   "cell_type": "markdown",
   "id": "72253bdf",
   "metadata": {},
   "source": [
    "Berdasarkan perhitungan median di atas, secara Gross Square Feet: Bronx memiliki nilai tengah/median yang lebih tinggi dibanding Borough lainnya. \n",
    "\n",
    "Namun secara Land Square Feet: Staten Island memiliki nilai tengah/Median yang lebih tinggi dibandingkan Borough yang lainnya"
   ]
  },
  {
   "cell_type": "markdown",
   "id": "b5dea4ac",
   "metadata": {},
   "source": [
    "# Measure of Central Tendency: Modus"
   ]
  },
  {
   "cell_type": "markdown",
   "id": "f824334a",
   "metadata": {},
   "source": [
    "Mencari tipe Building Class Category dan jumlah Residential Units yang paling sering muncul dalam setiap Boroughnya."
   ]
  },
  {
   "cell_type": "code",
   "execution_count": 36,
   "id": "d7ceffc6",
   "metadata": {
    "scrolled": true
   },
   "outputs": [
    {
     "data": {
      "text/html": [
       "<div>\n",
       "<style scoped>\n",
       "    .dataframe tbody tr th:only-of-type {\n",
       "        vertical-align: middle;\n",
       "    }\n",
       "\n",
       "    .dataframe tbody tr th {\n",
       "        vertical-align: top;\n",
       "    }\n",
       "\n",
       "    .dataframe thead th {\n",
       "        text-align: right;\n",
       "    }\n",
       "</style>\n",
       "<table border=\"1\" class=\"dataframe\">\n",
       "  <thead>\n",
       "    <tr style=\"text-align: right;\">\n",
       "      <th></th>\n",
       "      <th>BOROUGH</th>\n",
       "      <th>BUILDING CLASS CATEGORY</th>\n",
       "    </tr>\n",
       "  </thead>\n",
       "  <tbody>\n",
       "    <tr>\n",
       "      <th>0</th>\n",
       "      <td>Manhattan</td>\n",
       "      <td>13 CONDOS - ELEVATOR APARTMENTS</td>\n",
       "    </tr>\n",
       "    <tr>\n",
       "      <th>1</th>\n",
       "      <td>Bronx</td>\n",
       "      <td>02 TWO FAMILY DWELLINGS</td>\n",
       "    </tr>\n",
       "    <tr>\n",
       "      <th>2</th>\n",
       "      <td>Brooklyn</td>\n",
       "      <td>02 TWO FAMILY DWELLINGS</td>\n",
       "    </tr>\n",
       "    <tr>\n",
       "      <th>3</th>\n",
       "      <td>Queens</td>\n",
       "      <td>01 ONE FAMILY DWELLINGS</td>\n",
       "    </tr>\n",
       "    <tr>\n",
       "      <th>4</th>\n",
       "      <td>Staten Island</td>\n",
       "      <td>01 ONE FAMILY DWELLINGS</td>\n",
       "    </tr>\n",
       "  </tbody>\n",
       "</table>\n",
       "</div>"
      ],
      "text/plain": [
       "         BOROUGH                      BUILDING CLASS CATEGORY\n",
       "0      Manhattan  13 CONDOS - ELEVATOR APARTMENTS            \n",
       "1          Bronx  02 TWO FAMILY DWELLINGS                    \n",
       "2       Brooklyn  02 TWO FAMILY DWELLINGS                    \n",
       "3         Queens  01 ONE FAMILY DWELLINGS                    \n",
       "4  Staten Island  01 ONE FAMILY DWELLINGS                    "
      ]
     },
     "execution_count": 36,
     "metadata": {},
     "output_type": "execute_result"
    }
   ],
   "source": [
    "modus = df[['BOROUGH','BUILDING CLASS CATEGORY']].groupby(['BOROUGH']).apply(pd.DataFrame.mode).reset_index(drop=True)\n",
    "modus"
   ]
  },
  {
   "cell_type": "code",
   "execution_count": 37,
   "id": "073e6774",
   "metadata": {},
   "outputs": [
    {
     "data": {
      "text/html": [
       "<div>\n",
       "<style scoped>\n",
       "    .dataframe tbody tr th:only-of-type {\n",
       "        vertical-align: middle;\n",
       "    }\n",
       "\n",
       "    .dataframe tbody tr th {\n",
       "        vertical-align: top;\n",
       "    }\n",
       "\n",
       "    .dataframe thead th {\n",
       "        text-align: right;\n",
       "    }\n",
       "</style>\n",
       "<table border=\"1\" class=\"dataframe\">\n",
       "  <thead>\n",
       "    <tr style=\"text-align: right;\">\n",
       "      <th></th>\n",
       "      <th>BOROUGH</th>\n",
       "      <th>RESIDENTIAL UNITS</th>\n",
       "    </tr>\n",
       "  </thead>\n",
       "  <tbody>\n",
       "    <tr>\n",
       "      <th>0</th>\n",
       "      <td>Manhattan</td>\n",
       "      <td>1</td>\n",
       "    </tr>\n",
       "    <tr>\n",
       "      <th>1</th>\n",
       "      <td>Bronx</td>\n",
       "      <td>2</td>\n",
       "    </tr>\n",
       "    <tr>\n",
       "      <th>2</th>\n",
       "      <td>Brooklyn</td>\n",
       "      <td>1</td>\n",
       "    </tr>\n",
       "    <tr>\n",
       "      <th>3</th>\n",
       "      <td>Queens</td>\n",
       "      <td>1</td>\n",
       "    </tr>\n",
       "    <tr>\n",
       "      <th>4</th>\n",
       "      <td>Staten Island</td>\n",
       "      <td>1</td>\n",
       "    </tr>\n",
       "  </tbody>\n",
       "</table>\n",
       "</div>"
      ],
      "text/plain": [
       "         BOROUGH  RESIDENTIAL UNITS\n",
       "0      Manhattan                  1\n",
       "1          Bronx                  2\n",
       "2       Brooklyn                  1\n",
       "3         Queens                  1\n",
       "4  Staten Island                  1"
      ]
     },
     "execution_count": 37,
     "metadata": {},
     "output_type": "execute_result"
    }
   ],
   "source": [
    "modus2 = df[['BOROUGH','RESIDENTIAL UNITS']].groupby(['BOROUGH']).apply(pd.DataFrame.mode).reset_index(drop=True)\n",
    "modus2"
   ]
  },
  {
   "cell_type": "markdown",
   "id": "f17f466d",
   "metadata": {},
   "source": [
    "Berdasarkan perhitungan kedua nilai modus diatas, didapatkan bahwa Bronx memiliki units yang paling sering muncul yaitu dengan jumlah 2. Sedangkan berdasarkan Building Class Category, pada Manhattan Kategori 13 Condos paling sering muncul dibandingkan Borough lain yang memiliki kategori two family/one family."
   ]
  },
  {
   "cell_type": "markdown",
   "id": "d652af8a",
   "metadata": {},
   "source": [
    "# Measure of Central Tendency: Range"
   ]
  },
  {
   "cell_type": "markdown",
   "id": "9c213e67",
   "metadata": {},
   "source": [
    "Menghitung Range Sale Price untuk setiap Borough"
   ]
  },
  {
   "cell_type": "code",
   "execution_count": 38,
   "id": "a79493dd",
   "metadata": {},
   "outputs": [
    {
     "data": {
      "text/plain": [
       "BOROUGH\n",
       "Manhattan        789450.0\n",
       "Bronx            787000.0\n",
       "Brooklyn         789286.0\n",
       "Queens           789998.0\n",
       "Staten Island    788500.0\n",
       "dtype: float64"
      ]
     },
     "execution_count": 38,
     "metadata": {},
     "output_type": "execute_result"
    }
   ],
   "source": [
    "df_range = df.groupby('BOROUGH').apply(lambda x: x['SALE PRICE'].max() - x['SALE PRICE'].min())\n",
    "df_range"
   ]
  },
  {
   "cell_type": "markdown",
   "id": "6fc54936",
   "metadata": {},
   "source": [
    "Dari setiap Borough menghasilkan Sale Price dengan Range yang tidak jauh berbeda (787000-789000) "
   ]
  },
  {
   "cell_type": "markdown",
   "id": "e9d5894f",
   "metadata": {},
   "source": [
    "# Measure of Central Tendency: Variance"
   ]
  },
  {
   "cell_type": "markdown",
   "id": "ff19a842",
   "metadata": {},
   "source": [
    "Mencari nilai variance harga jual tertinggi dengan terendah properti di New York berdasarkan neighborhood."
   ]
  },
  {
   "cell_type": "code",
   "execution_count": 39,
   "id": "f5a9ebcd",
   "metadata": {},
   "outputs": [
    {
     "data": {
      "text/html": [
       "<div>\n",
       "<style scoped>\n",
       "    .dataframe tbody tr th:only-of-type {\n",
       "        vertical-align: middle;\n",
       "    }\n",
       "\n",
       "    .dataframe tbody tr th {\n",
       "        vertical-align: top;\n",
       "    }\n",
       "\n",
       "    .dataframe thead th {\n",
       "        text-align: right;\n",
       "    }\n",
       "</style>\n",
       "<table border=\"1\" class=\"dataframe\">\n",
       "  <thead>\n",
       "    <tr style=\"text-align: right;\">\n",
       "      <th></th>\n",
       "      <th>NEIGHBORHOOD</th>\n",
       "      <th>SALE PRICE</th>\n",
       "    </tr>\n",
       "  </thead>\n",
       "  <tbody>\n",
       "    <tr>\n",
       "      <th>91</th>\n",
       "      <td>FORT GREENE</td>\n",
       "      <td>1.043120e+11</td>\n",
       "    </tr>\n",
       "    <tr>\n",
       "      <th>49</th>\n",
       "      <td>COBBLE HILL-WEST</td>\n",
       "      <td>9.543645e+10</td>\n",
       "    </tr>\n",
       "    <tr>\n",
       "      <th>245</th>\n",
       "      <td>WILLIAMSBURG-NORTH</td>\n",
       "      <td>8.907263e+10</td>\n",
       "    </tr>\n",
       "    <tr>\n",
       "      <th>97</th>\n",
       "      <td>GOWANUS</td>\n",
       "      <td>8.867742e+10</td>\n",
       "    </tr>\n",
       "    <tr>\n",
       "      <th>140</th>\n",
       "      <td>MANHATTAN BEACH</td>\n",
       "      <td>7.972254e+10</td>\n",
       "    </tr>\n",
       "  </tbody>\n",
       "</table>\n",
       "</div>"
      ],
      "text/plain": [
       "           NEIGHBORHOOD    SALE PRICE\n",
       "91          FORT GREENE  1.043120e+11\n",
       "49     COBBLE HILL-WEST  9.543645e+10\n",
       "245  WILLIAMSBURG-NORTH  8.907263e+10\n",
       "97              GOWANUS  8.867742e+10\n",
       "140     MANHATTAN BEACH  7.972254e+10"
      ]
     },
     "execution_count": 39,
     "metadata": {},
     "output_type": "execute_result"
    }
   ],
   "source": [
    "var_df = df.groupby(['NEIGHBORHOOD'])['SALE PRICE'].var().reset_index()\n",
    "var_high = var_df.sort_values(by='SALE PRICE', ascending=False).head(5)\n",
    "var_high"
   ]
  },
  {
   "cell_type": "code",
   "execution_count": 40,
   "id": "660c566a",
   "metadata": {
    "scrolled": true
   },
   "outputs": [
    {
     "data": {
      "text/html": [
       "<div>\n",
       "<style scoped>\n",
       "    .dataframe tbody tr th:only-of-type {\n",
       "        vertical-align: middle;\n",
       "    }\n",
       "\n",
       "    .dataframe tbody tr th {\n",
       "        vertical-align: top;\n",
       "    }\n",
       "\n",
       "    .dataframe thead th {\n",
       "        text-align: right;\n",
       "    }\n",
       "</style>\n",
       "<table border=\"1\" class=\"dataframe\">\n",
       "  <thead>\n",
       "    <tr style=\"text-align: right;\">\n",
       "      <th></th>\n",
       "      <th>NEIGHBORHOOD</th>\n",
       "      <th>SALE PRICE</th>\n",
       "    </tr>\n",
       "  </thead>\n",
       "  <tbody>\n",
       "    <tr>\n",
       "      <th>138</th>\n",
       "      <td>LOWER EAST SIDE</td>\n",
       "      <td>3.096802e+09</td>\n",
       "    </tr>\n",
       "    <tr>\n",
       "      <th>83</th>\n",
       "      <td>FLATIRON</td>\n",
       "      <td>2.536014e+09</td>\n",
       "    </tr>\n",
       "    <tr>\n",
       "      <th>230</th>\n",
       "      <td>UPPER EAST SIDE (96-110)</td>\n",
       "      <td>2.409923e+09</td>\n",
       "    </tr>\n",
       "    <tr>\n",
       "      <th>105</th>\n",
       "      <td>GREENWICH VILLAGE-CENTRAL</td>\n",
       "      <td>1.148512e+09</td>\n",
       "    </tr>\n",
       "    <tr>\n",
       "      <th>215</th>\n",
       "      <td>SPRING CREEK</td>\n",
       "      <td>4.325959e+07</td>\n",
       "    </tr>\n",
       "  </tbody>\n",
       "</table>\n",
       "</div>"
      ],
      "text/plain": [
       "                  NEIGHBORHOOD    SALE PRICE\n",
       "138            LOWER EAST SIDE  3.096802e+09\n",
       "83                    FLATIRON  2.536014e+09\n",
       "230   UPPER EAST SIDE (96-110)  2.409923e+09\n",
       "105  GREENWICH VILLAGE-CENTRAL  1.148512e+09\n",
       "215               SPRING CREEK  4.325959e+07"
      ]
     },
     "execution_count": 40,
     "metadata": {},
     "output_type": "execute_result"
    }
   ],
   "source": [
    "var_df = df.groupby(['NEIGHBORHOOD'])['SALE PRICE'].var().reset_index()\n",
    "var_df = var_df.dropna()\n",
    "var_df = var_df[var_df['SALE PRICE'] != 0]  \n",
    "var_low = var_df.sort_values(by='SALE PRICE', ascending=False).tail(5)\n",
    "var_low"
   ]
  },
  {
   "cell_type": "markdown",
   "id": "7077f1ae",
   "metadata": {},
   "source": [
    "Berdasarkan harga tertinggi di Neighborhood, varians tertinggi ada di Fort Greene sedangkan varians terendah ada di Spring Creek (dibawah Spring Creek bernilai 0/Nan)"
   ]
  },
  {
   "cell_type": "markdown",
   "id": "fca1c8a2",
   "metadata": {},
   "source": [
    "# Measure of Central Tendency: Standard Deviation"
   ]
  },
  {
   "cell_type": "code",
   "execution_count": 41,
   "id": "1dfff211",
   "metadata": {
    "scrolled": true
   },
   "outputs": [
    {
     "name": "stderr",
     "output_type": "stream",
     "text": [
      "C:\\Users\\RHEINA\\AppData\\Local\\Temp\\ipykernel_11288\\3129417065.py:1: FutureWarning: The default value of numeric_only in DataFrameGroupBy.std is deprecated. In a future version, numeric_only will default to False. Either specify numeric_only or select only columns which should be valid for the function.\n",
      "  df_sd = df.groupby('BOROUGH').std()\n"
     ]
    },
    {
     "data": {
      "text/html": [
       "<div>\n",
       "<style scoped>\n",
       "    .dataframe tbody tr th:only-of-type {\n",
       "        vertical-align: middle;\n",
       "    }\n",
       "\n",
       "    .dataframe tbody tr th {\n",
       "        vertical-align: top;\n",
       "    }\n",
       "\n",
       "    .dataframe thead th {\n",
       "        text-align: right;\n",
       "    }\n",
       "</style>\n",
       "<table border=\"1\" class=\"dataframe\">\n",
       "  <thead>\n",
       "    <tr style=\"text-align: right;\">\n",
       "      <th></th>\n",
       "      <th>BLOCK</th>\n",
       "      <th>LOT</th>\n",
       "      <th>RESIDENTIAL UNITS</th>\n",
       "      <th>COMMERCIAL UNITS</th>\n",
       "      <th>TOTAL UNITS</th>\n",
       "      <th>LAND SQUARE FEET</th>\n",
       "      <th>GROSS SQUARE FEET</th>\n",
       "      <th>SALE PRICE</th>\n",
       "    </tr>\n",
       "    <tr>\n",
       "      <th>BOROUGH</th>\n",
       "      <th></th>\n",
       "      <th></th>\n",
       "      <th></th>\n",
       "      <th></th>\n",
       "      <th></th>\n",
       "      <th></th>\n",
       "      <th></th>\n",
       "      <th></th>\n",
       "    </tr>\n",
       "  </thead>\n",
       "  <tbody>\n",
       "    <tr>\n",
       "      <th>Manhattan</th>\n",
       "      <td>557.536507</td>\n",
       "      <td>845.418527</td>\n",
       "      <td>37.607815</td>\n",
       "      <td>12.831473</td>\n",
       "      <td>39.899511</td>\n",
       "      <td>7102.332724</td>\n",
       "      <td>58555.852895</td>\n",
       "      <td>109221.638628</td>\n",
       "    </tr>\n",
       "    <tr>\n",
       "      <th>Bronx</th>\n",
       "      <td>948.850527</td>\n",
       "      <td>273.451786</td>\n",
       "      <td>9.017549</td>\n",
       "      <td>0.268564</td>\n",
       "      <td>9.016095</td>\n",
       "      <td>3685.189370</td>\n",
       "      <td>8424.220830</td>\n",
       "      <td>158570.756499</td>\n",
       "    </tr>\n",
       "    <tr>\n",
       "      <th>Brooklyn</th>\n",
       "      <td>2534.189819</td>\n",
       "      <td>543.505746</td>\n",
       "      <td>6.344534</td>\n",
       "      <td>0.358178</td>\n",
       "      <td>6.348448</td>\n",
       "      <td>15512.068491</td>\n",
       "      <td>8353.995550</td>\n",
       "      <td>195792.624077</td>\n",
       "    </tr>\n",
       "    <tr>\n",
       "      <th>Queens</th>\n",
       "      <td>4447.559356</td>\n",
       "      <td>477.682420</td>\n",
       "      <td>23.298789</td>\n",
       "      <td>18.192623</td>\n",
       "      <td>29.726521</td>\n",
       "      <td>48836.893171</td>\n",
       "      <td>43898.586270</td>\n",
       "      <td>135339.181140</td>\n",
       "    </tr>\n",
       "    <tr>\n",
       "      <th>Staten Island</th>\n",
       "      <td>2263.547069</td>\n",
       "      <td>453.753887</td>\n",
       "      <td>2.448830</td>\n",
       "      <td>1.533835</td>\n",
       "      <td>2.869556</td>\n",
       "      <td>28037.964065</td>\n",
       "      <td>8557.307363</td>\n",
       "      <td>139262.818182</td>\n",
       "    </tr>\n",
       "  </tbody>\n",
       "</table>\n",
       "</div>"
      ],
      "text/plain": [
       "                     BLOCK         LOT  RESIDENTIAL UNITS  COMMERCIAL UNITS  \\\n",
       "BOROUGH                                                                       \n",
       "Manhattan       557.536507  845.418527          37.607815         12.831473   \n",
       "Bronx           948.850527  273.451786           9.017549          0.268564   \n",
       "Brooklyn       2534.189819  543.505746           6.344534          0.358178   \n",
       "Queens         4447.559356  477.682420          23.298789         18.192623   \n",
       "Staten Island  2263.547069  453.753887           2.448830          1.533835   \n",
       "\n",
       "               TOTAL UNITS  LAND SQUARE FEET  GROSS SQUARE FEET     SALE PRICE  \n",
       "BOROUGH                                                                         \n",
       "Manhattan        39.899511       7102.332724       58555.852895  109221.638628  \n",
       "Bronx             9.016095       3685.189370        8424.220830  158570.756499  \n",
       "Brooklyn          6.348448      15512.068491        8353.995550  195792.624077  \n",
       "Queens           29.726521      48836.893171       43898.586270  135339.181140  \n",
       "Staten Island     2.869556      28037.964065        8557.307363  139262.818182  "
      ]
     },
     "execution_count": 41,
     "metadata": {},
     "output_type": "execute_result"
    }
   ],
   "source": [
    "df_sd = df.groupby('BOROUGH').std()\n",
    "df_sd"
   ]
  },
  {
   "cell_type": "markdown",
   "id": "de9cd1fc",
   "metadata": {},
   "source": [
    "Berdasarkan Sale Price, Brooklyn memiliki Standar Dev tertinggi diantara Borough lainnya. "
   ]
  },
  {
   "cell_type": "markdown",
   "id": "8aa70bb7",
   "metadata": {},
   "source": [
    "# Probability Distribution"
   ]
  },
  {
   "cell_type": "code",
   "execution_count": 42,
   "id": "a0da5ea9",
   "metadata": {
    "scrolled": true
   },
   "outputs": [
    {
     "name": "stderr",
     "output_type": "stream",
     "text": [
      "C:\\Users\\RHEINA\\AppData\\Local\\Temp\\ipykernel_11288\\3042665139.py:4: UserWarning: \n",
      "\n",
      "`distplot` is a deprecated function and will be removed in seaborn v0.14.0.\n",
      "\n",
      "Please adapt your code to use either `displot` (a figure-level function with\n",
      "similar flexibility) or `histplot` (an axes-level function for histograms).\n",
      "\n",
      "For a guide to updating your code to use the new functions, please see\n",
      "https://gist.github.com/mwaskom/de44147ed2974457ad6372750bbe5751\n",
      "\n",
      "  ax = sns.distplot(br['SALE PRICE'],\n"
     ]
    },
    {
     "data": {
      "text/plain": [
       "[Text(0.5, 0, 'price'),\n",
       " Text(0, 0.5, 'Probability of Occurence'),\n",
       " Text(0.5, 1.0, 'Distribution of Sale Price in Brooklyn')]"
      ]
     },
     "execution_count": 42,
     "metadata": {},
     "output_type": "execute_result"
    },
    {
     "data": {
      "image/png": "[encoded data removed]",
      "text/plain": [
       "<Figure size 640x480 with 1 Axes>"
      ]
     },
     "metadata": {},
     "output_type": "display_data"
    }
   ],
   "source": [
    "df1=df.groupby(\"BOROUGH\")\n",
    "br = df1.get_group('Brooklyn')\n",
    "\n",
    "ax = sns.distplot(br['SALE PRICE'],\n",
    "                  kde=True,\n",
    "                  bins=50,\n",
    "                  color='skyblue',\n",
    "                  hist_kws={\"linewidth\": 15,'alpha':1})\n",
    "ax.set(xlabel='price', ylabel='Probability of Occurence', title='Distribution of Sale Price in Brooklyn')\n"
   ]
  },
  {
   "cell_type": "markdown",
   "id": "d1530ab0",
   "metadata": {},
   "source": [
    "Dalam menghitung nilai distribusi probabilitas, menggunakan data sale price berdasarkan wilayah Brooklyn. Hasil visualisasi distribusi sale price untuk wilayah Brooklyn mengikuti distribusi eksponential, karena hasil dari grafik line distribusinya hampir sejalur dengan grafik histogram dari data yang digunakan."
   ]
  },
  {
   "cell_type": "markdown",
   "id": "62bbe1c1",
   "metadata": {},
   "source": [
    "# Confidence Intervals"
   ]
  },
  {
   "cell_type": "code",
   "execution_count": 43,
   "id": "1c33fdbf",
   "metadata": {
    "scrolled": true
   },
   "outputs": [
    {
     "data": {
      "text/html": [
       "<div>\n",
       "<style scoped>\n",
       "    .dataframe tbody tr th:only-of-type {\n",
       "        vertical-align: middle;\n",
       "    }\n",
       "\n",
       "    .dataframe tbody tr th {\n",
       "        vertical-align: top;\n",
       "    }\n",
       "\n",
       "    .dataframe thead tr th {\n",
       "        text-align: left;\n",
       "    }\n",
       "\n",
       "    .dataframe thead tr:last-of-type th {\n",
       "        text-align: right;\n",
       "    }\n",
       "</style>\n",
       "<table border=\"1\" class=\"dataframe\">\n",
       "  <thead>\n",
       "    <tr>\n",
       "      <th></th>\n",
       "      <th colspan=\"3\" halign=\"left\">SALE PRICE</th>\n",
       "    </tr>\n",
       "    <tr>\n",
       "      <th></th>\n",
       "      <th>mean</th>\n",
       "      <th>std</th>\n",
       "      <th>size</th>\n",
       "    </tr>\n",
       "    <tr>\n",
       "      <th>BOROUGH</th>\n",
       "      <th></th>\n",
       "      <th></th>\n",
       "      <th></th>\n",
       "    </tr>\n",
       "  </thead>\n",
       "  <tbody>\n",
       "    <tr>\n",
       "      <th>Manhattan</th>\n",
       "      <td>540871.630934</td>\n",
       "      <td>109221.638628</td>\n",
       "      <td>3181</td>\n",
       "    </tr>\n",
       "    <tr>\n",
       "      <th>Bronx</th>\n",
       "      <td>448221.910236</td>\n",
       "      <td>158570.756499</td>\n",
       "      <td>3097</td>\n",
       "    </tr>\n",
       "    <tr>\n",
       "      <th>Brooklyn</th>\n",
       "      <td>506525.692929</td>\n",
       "      <td>195792.624077</td>\n",
       "      <td>5077</td>\n",
       "    </tr>\n",
       "    <tr>\n",
       "      <th>Queens</th>\n",
       "      <td>512513.827403</td>\n",
       "      <td>135339.181140</td>\n",
       "      <td>15458</td>\n",
       "    </tr>\n",
       "    <tr>\n",
       "      <th>Staten Island</th>\n",
       "      <td>475511.350783</td>\n",
       "      <td>139262.818182</td>\n",
       "      <td>7087</td>\n",
       "    </tr>\n",
       "  </tbody>\n",
       "</table>\n",
       "</div>"
      ],
      "text/plain": [
       "                  SALE PRICE                      \n",
       "                        mean            std   size\n",
       "BOROUGH                                           \n",
       "Manhattan      540871.630934  109221.638628   3181\n",
       "Bronx          448221.910236  158570.756499   3097\n",
       "Brooklyn       506525.692929  195792.624077   5077\n",
       "Queens         512513.827403  135339.181140  15458\n",
       "Staten Island  475511.350783  139262.818182   7087"
      ]
     },
     "execution_count": 43,
     "metadata": {},
     "output_type": "execute_result"
    }
   ],
   "source": [
    "df_ci=df.groupby(\"BOROUGH\").agg({\"SALE PRICE\": [np.mean, np.std, np.size]})\n",
    "df_ci"
   ]
  },
  {
   "cell_type": "code",
   "execution_count": 44,
   "id": "f8c156f9",
   "metadata": {
    "scrolled": false
   },
   "outputs": [
    {
     "data": {
      "text/plain": [
       "3097"
      ]
     },
     "execution_count": 44,
     "metadata": {},
     "output_type": "execute_result"
    }
   ],
   "source": [
    "bronx = df.BOROUGH == 'Bronx'\n",
    "bronx = bronx.sum()\n",
    "bronx"
   ]
  },
  {
   "cell_type": "code",
   "execution_count": 45,
   "id": "d87d1b3e",
   "metadata": {},
   "outputs": [
    {
     "name": "stdout",
     "output_type": "stream",
     "text": [
      "Mean Bronx      :  448221.910236\n",
      "Standar Deviasi     :  158570.756499\n",
      "Size Bronx :  3097\n",
      "Z-Score             :  1.96\n",
      "standar error       :  2849.3939340894613\n"
     ]
    }
   ],
   "source": [
    "mean_br = 448221.910236\n",
    "std_br = 158570.756499\t\n",
    "z = 1.96\n",
    "se = std_br / np.sqrt(bronx)\n",
    "\n",
    "print('Mean Bronx      : ', mean_br)\n",
    "print('Standar Deviasi     : ', std_br)\n",
    "print('Size Bronx : ', bronx)\n",
    "print('Z-Score             : ', z)\n",
    "print('standar error       : ', se)"
   ]
  },
  {
   "cell_type": "code",
   "execution_count": 46,
   "id": "302c4185",
   "metadata": {
    "scrolled": true
   },
   "outputs": [
    {
     "name": "stdout",
     "output_type": "stream",
     "text": [
      "Lower limit of Confidence Interval:  442637.098\n",
      "Upper limit of Confidence Interval:  453806.722\n"
     ]
    }
   ],
   "source": [
    "print('Lower limit of Confidence Interval: ', round(mean_br - z * se, 3))\n",
    "print('Upper limit of Confidence Interval: ', round(mean_br + z * se, 3))"
   ]
  },
  {
   "cell_type": "markdown",
   "id": "0e5c676b",
   "metadata": {},
   "source": [
    "Hasil Confidence Interval yang dihasilkan berdasarkan Sale Price di Bronx yaitu di rentang 442637.098 sampai dengan 453806.722"
   ]
  },
  {
   "cell_type": "markdown",
   "id": "fa411b79",
   "metadata": {},
   "source": [
    "# Hypothesis Testing"
   ]
  },
  {
   "cell_type": "markdown",
   "id": "76aa13d5",
   "metadata": {},
   "source": [
    "Membuat Hypothesis Testing apakah sampel data memiliki Distribusi Gaussian \n",
    "H0 = Sample memiliki Gaussian distribution. <br>\n",
    "H1 = Sample tidak memiliki Gaussian distribution. <br>\n",
    "Data yang digunakan: Sale Price di Brooklyn."
   ]
  },
  {
   "cell_type": "code",
   "execution_count": 47,
   "id": "4bea940d",
   "metadata": {},
   "outputs": [
    {
     "name": "stdout",
     "output_type": "stream",
     "text": [
      "stat=0.949, p=0.000\n",
      "Probably not Gaussian\n"
     ]
    },
    {
     "name": "stderr",
     "output_type": "stream",
     "text": [
      "D:\\Kuliah\\Hacktiv8\\Anaconda\\Lib\\site-packages\\scipy\\stats\\_morestats.py:1882: UserWarning: p-value may not be accurate for N > 5000.\n",
      "  warnings.warn(\"p-value may not be accurate for N > 5000.\")\n"
     ]
    }
   ],
   "source": [
    "from scipy.stats import pearsonr\n",
    "df1=df.groupby(\"BOROUGH\")\n",
    "mh = df1.get_group('Brooklyn')\n",
    "sp = mh['SALE PRICE']\n",
    "\n",
    "from scipy.stats import shapiro\n",
    "stat, p = shapiro(sp)\n",
    "print('stat=%.3f, p=%.3f' % (stat, p))\n",
    "if p > 0.05:\n",
    "    print('Probably Gaussian')\n",
    "else:\n",
    "    print('Probably not Gaussian')"
   ]
  },
  {
   "cell_type": "markdown",
   "id": "5a0198c4",
   "metadata": {},
   "source": [
    "Berdasarkan Hypothesis Testing diperoleh nilai P-Value < 0,05 sehingga H0 ditolak yang berarti sampel bukan Distribution Gaussian."
   ]
  },
  {
   "cell_type": "markdown",
   "id": "6369d558",
   "metadata": {},
   "source": [
    "# Overall Analysis"
   ]
  },
  {
   "cell_type": "markdown",
   "id": "639f5c7d",
   "metadata": {},
   "source": [
    "Pada Assignment kali ini membahas tentang kumpulan data yang merupakan catatan setiap gedung atau unit bangunan (apartemen, dll.) yang terjual di pasar properti Kota New York selama periode 12 bulan.\n",
    "<br>\n",
    "1. Pada Dataset yang digunakan, masih banyak data yang harus dihilangkan/drop dikarenakan data yang tidak relevan dengan kebutuhan analisis. <br>\n",
    "2. Pada perhitungan Mean digunakan dalam menghitung rata-rata/mean Sale Price untuk setiap Borough di NYC. Dengan hasil Manhattan sebagai Wilayah dengan Rata-Rata Sale Price tertinggi yaitu 540871.630934 <br>\n",
    "3. Pada perhitungan Median digunakan dalam menghitung nilai Median Gross Square Feet & Land Square Feet untuk setiap Borough. Dengan hasil secara Gross Square Feet: Bronx memiliki nilai tengah/median yang lebih tinggi dibanding Borough lainnya. Namun secara Land Square Feet: Staten Island memiliki nilai tengah/Median yang lebih tinggi dibandingkan Borough yang lainnya <br>\n",
    "4. Pada perhitungan Modus digunakan dalam mencari tipe Building Class Category dan jumlah Residential Units yang paling sering muncul dalam setiap Boroughnya. Dengan hasil didapatkan bahwa Bronx memiliki units yang paling sering muncul yaitu dengan jumlah 2. Sedangkan berdasarkan Building Class Category, pada Manhattan Kategori 13 Condos paling sering muncul dibandingkan Borough lain yang memiliki kategori two family/one family. <br>\n",
    "5. Pada perhitungan Range digunakan dalam menghitung Range/Jangkauan pada Sale Price untuk setiap Borough. Dengan hasil dari setiap Borough menghasilkan Sale Price dengan Range yang tidak jauh berbeda (787000-789000). <br>\n",
    "6. Pada perhitungan Variance digunakan dalam mencari nilai variance harga jual tertinggi dengan terendah properti di New York berdasarkan Neighborhood. Dengan hasil berdasarkan harga tertinggi di Neighborhood, varians tertinggi ada di Fort Greene sedangkan varians terendah ada di Spring Creek (dibawah Spring Creek masih ada berbagai neighborhood bernilai 0/Nan) <br>\n",
    "7. Pada perhitungan Standar Deviation berdasarkan Sale Price pada setiap Borough, Brooklyn memiliki Standar Dev tertinggi diantara Borough lainnya. <br>\n",
    "8. Pada perhitungan Probability Distribution menggunakan data sale price berdasarkan wilayah Brooklyn. Hasil visualisasi distribusi sale price untuk wilayah Brooklyn mengikuti distribusi eksponential, karena hasil dari grafik line distribusinya hampir sejalur dengan grafik histogram dari data yang digunakan. <br>\n",
    "9. Pada perhitungan Confidence Intervals berdasarkan Sale Price di Bronx didapatkan Mean Bronx: 448221.910236, Standar Deviasi: 158570.756499, Size Bronx: 3097, Z-Score: 1.96, Standar Error: 2849.3939340894613, dan Lower limit of Confidence Interval: 442637.098, Upper limit of Confidence Interval: 453806.72 sehingga memiliki rentang Confidence Intervals dari 442637.098 sampai dengan 453806.722\n",
    "10. Pada perhitungan Hypothesis Testing dilakukan hipotesa berupa \"apakah sampel data memiliki Distribusi Gaussian?\" dengan keterangan H0 = Sample memiliki Gaussian distribution. <br>\n",
    "H1 = Sample tidak memiliki Gaussian distribution. <br>\n",
    "Data yang digunakan: Sale Price di Brooklyn. <br>\n",
    "Dari hasil perhitungan Hypothesis Testing diperoleh nilai P-Value < 0,05 sehingga H0 ditolak yang berarti sampel bukan Distribution Gaussian."
   ]
  }
 ],
 "metadata": {
  "kernelspec": {
   "display_name": "Python 3 (ipykernel)",
   "language": "python",
   "name": "python3"
  },
  "language_info": {
   "codemirror_mode": {
    "name": "ipython",
    "version": 3
   },
   "file_extension": ".py",
   "mimetype": "text/x-python",
   "name": "python",
   "nbconvert_exporter": "python",
   "pygments_lexer": "ipython3",
   "version": "3.11.4"
  },
  "toc": {
   "base_numbering": 1,
   "nav_menu": {},
   "number_sections": false,
   "sideBar": true,
   "skip_h1_title": false,
   "title_cell": "Table of Contents",
   "title_sidebar": "Contents",
   "toc_cell": false,
   "toc_position": {
    "height": "calc(100% - 180px)",
    "left": "10px",
    "top": "150px",
    "width": "246.396px"
   },
   "toc_section_display": true,
   "toc_window_display": false
  },
  "varInspector": {
   "cols": {
    "lenName": 16,
    "lenType": 16,
    "lenVar": 40
   },
   "kernels_config": {
    "python": {
     "delete_cmd_postfix": "",
     "delete_cmd_prefix": "del ",
     "library": "var_list.py",
     "varRefreshCmd": "print(var_dic_list())"
    },
    "r": {
     "delete_cmd_postfix": ") ",
     "delete_cmd_prefix": "rm(",
     "library": "var_list.r",
     "varRefreshCmd": "cat(var_dic_list()) "
    }
   },
   "types_to_exclude": [
    "module",
    "function",
    "builtin_function_or_method",
    "instance",
    "_Feature"
   ],
   "window_display": false
  }
 },
 "nbformat": 4,
 "nbformat_minor": 5
}
