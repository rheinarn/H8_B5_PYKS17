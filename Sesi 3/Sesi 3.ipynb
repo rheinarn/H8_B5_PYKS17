{
 "cells": [
  {
   "cell_type": "markdown",
   "id": "87605fc4",
   "metadata": {},
   "source": [
    "# Sesi 3"
   ]
  },
  {
   "cell_type": "code",
   "execution_count": 1,
   "id": "edfe8114",
   "metadata": {},
   "outputs": [
    {
     "name": "stdout",
     "output_type": "stream",
     "text": [
      "Return the sum of a 'start' value (default: 0) plus an iterable of numbers\n",
      "\n",
      "When the iterable is empty, return the start value.\n",
      "This function is intended specifically for use with numeric values and may\n",
      "reject non-numeric types.\n"
     ]
    }
   ],
   "source": [
    "print(sum.__doc__)"
   ]
  },
  {
   "cell_type": "markdown",
   "id": "2aff0c75",
   "metadata": {},
   "source": [
    "## Defining Function"
   ]
  },
  {
   "cell_type": "code",
   "execution_count": 2,
   "id": "8550c63e",
   "metadata": {},
   "outputs": [],
   "source": [
    "def my_function(p, l):\n",
    "    '''\n",
    "    Funtion untuk menghitung luas\n",
    "    '''\n",
    "    print(p*l)"
   ]
  },
  {
   "cell_type": "code",
   "execution_count": 3,
   "id": "837f70f0",
   "metadata": {},
   "outputs": [
    {
     "name": "stdout",
     "output_type": "stream",
     "text": [
      "8\n"
     ]
    }
   ],
   "source": [
    "my_function(4,2)"
   ]
  },
  {
   "cell_type": "code",
   "execution_count": 4,
   "id": "8ca7108d",
   "metadata": {},
   "outputs": [],
   "source": [
    "def printme(str):\n",
    "    '''\n",
    "    This print a passed string into this function\n",
    "    '''\n",
    "    print(str)\n",
    "    return"
   ]
  },
  {
   "cell_type": "markdown",
   "id": "0a96a10f",
   "metadata": {},
   "source": [
    "## Calling a Function"
   ]
  },
  {
   "cell_type": "code",
   "execution_count": 5,
   "id": "e054f200",
   "metadata": {},
   "outputs": [
    {
     "name": "stdout",
     "output_type": "stream",
     "text": [
      "doodleedoo\n"
     ]
    }
   ],
   "source": [
    "printme('doodleedoo')"
   ]
  },
  {
   "cell_type": "code",
   "execution_count": 6,
   "id": "ba6cafc1",
   "metadata": {},
   "outputs": [
    {
     "name": "stdout",
     "output_type": "stream",
     "text": [
      "coba print lagi\n"
     ]
    }
   ],
   "source": [
    "printme('coba print lagi')"
   ]
  },
  {
   "cell_type": "markdown",
   "id": "b968c9a3",
   "metadata": {},
   "source": [
    "## Pass by Reference vs Value"
   ]
  },
  {
   "cell_type": "code",
   "execution_count": 7,
   "id": "e94fdcf4",
   "metadata": {},
   "outputs": [],
   "source": [
    "def changeMe(mylist):\n",
    "    '''\n",
    "    This changes a passed list into this function\n",
    "    '''\n",
    "    mylist.append([1, 2, 3, 4])\n",
    "    print('values inside the function: ', mylist)\n",
    "    return"
   ]
  },
  {
   "cell_type": "code",
   "execution_count": 8,
   "id": "f26b016f",
   "metadata": {},
   "outputs": [
    {
     "name": "stdout",
     "output_type": "stream",
     "text": [
      "values inside the function:  [10, 20, 30, [1, 2, 3, 4]]\n",
      "values inside the function:  [10, 20, 30, [1, 2, 3, 4]]\n"
     ]
    }
   ],
   "source": [
    "mylist = [10, 20, 30]\n",
    "changeMe(mylist)\n",
    "print('values inside the function: ', mylist)"
   ]
  },
  {
   "cell_type": "code",
   "execution_count": 9,
   "id": "d11ec774",
   "metadata": {},
   "outputs": [
    {
     "name": "stdout",
     "output_type": "stream",
     "text": [
      "values inside the function:  [1, 2, 3, 4]\n",
      "values inside the function:  [10, 20, 30]\n"
     ]
    }
   ],
   "source": [
    "def change_me(mylist):\n",
    "    '''\n",
    "    This changes a passed list into this function\n",
    "    '''\n",
    "    mylist = [1, 2, 3, 4]\n",
    "    print('values inside the function: ', mylist)\n",
    "    return\n",
    "mylist = [10, 20, 30]\n",
    "change_me(mylist)\n",
    "print('values inside the function: ', mylist)"
   ]
  },
  {
   "cell_type": "markdown",
   "id": "ce1fae31",
   "metadata": {},
   "source": [
    "## Function Arguments"
   ]
  },
  {
   "cell_type": "code",
   "execution_count": 10,
   "id": "ba05c822",
   "metadata": {},
   "outputs": [
    {
     "name": "stdout",
     "output_type": "stream",
     "text": [
      "Name : Hacktiv8\n",
      "Age : 4\n"
     ]
    }
   ],
   "source": [
    "def printInfo(name, age):\n",
    "    '''\n",
    "    This Print Name and Age\n",
    "    '''\n",
    "    print('Name :', name)\n",
    "    print('Age :', age)\n",
    "    return\n",
    "printInfo(age=4, name='Hacktiv8')"
   ]
  },
  {
   "cell_type": "code",
   "execution_count": 11,
   "id": "cf6d82c5",
   "metadata": {},
   "outputs": [
    {
     "name": "stdout",
     "output_type": "stream",
     "text": [
      "Name : Hacktiv8\n",
      "Age : 12\n",
      "Name : Fulan\n",
      "Age : 30\n"
     ]
    }
   ],
   "source": [
    "def printInfo(name, age=30):\n",
    "    '''\n",
    "    This Print Name and Age\n",
    "    '''\n",
    "    print('Name :', name)\n",
    "    print('Age :', age)\n",
    "    return\n",
    "printInfo('Hacktiv8', 12)\n",
    "printInfo('Fulan')"
   ]
  },
  {
   "cell_type": "code",
   "execution_count": 12,
   "id": "eed92b81",
   "metadata": {},
   "outputs": [
    {
     "name": "stdout",
     "output_type": "stream",
     "text": [
      "Output is :\n"
     ]
    }
   ],
   "source": [
    "def print_info(arg1, *vartuple):\n",
    "    '''\n",
    "    this prints a variable passed arguments\n",
    "    '''\n",
    "    print('Output is :')\n",
    "    # print(arg1)\n",
    "    for val in vartuple:\n",
    "        print(val)\n",
    "    return\n",
    "print_info(10)"
   ]
  },
  {
   "cell_type": "code",
   "execution_count": 13,
   "id": "21625d4e",
   "metadata": {},
   "outputs": [
    {
     "name": "stdout",
     "output_type": "stream",
     "text": [
      "Output is :\n",
      "3.2\n",
      "a\n",
      "True\n"
     ]
    }
   ],
   "source": [
    "print_info(70, 3.2, 'a', True)"
   ]
  },
  {
   "cell_type": "markdown",
   "id": "91b94058",
   "metadata": {},
   "source": [
    "## Anonymous Function"
   ]
  },
  {
   "cell_type": "code",
   "execution_count": 14,
   "id": "a379f886",
   "metadata": {},
   "outputs": [
    {
     "name": "stdout",
     "output_type": "stream",
     "text": [
      "2 + 3 from sum_1 :  5\n",
      "2 + 3 from sum_2 :  5\n"
     ]
    }
   ],
   "source": [
    "sum_1 = lambda arg1, arg2: arg1 + arg2\n",
    "\n",
    "def sum_2(arg1, arg2):\n",
    "    return arg1 + arg2\n",
    "print('2 + 3 from sum_1 : ', sum_1(2,3))\n",
    "print('2 + 3 from sum_2 : ', sum_2(2,3))"
   ]
  },
  {
   "cell_type": "markdown",
   "id": "b1a706e6",
   "metadata": {},
   "source": [
    "## Return Statement"
   ]
  },
  {
   "cell_type": "code",
   "execution_count": 15,
   "id": "0a6887ab",
   "metadata": {},
   "outputs": [
    {
     "name": "stdout",
     "output_type": "stream",
     "text": [
      "Inside the Function : 30\n",
      "Outside the Function : 40\n"
     ]
    }
   ],
   "source": [
    "def sum(arg1, arg2):\n",
    "    '''\n",
    "    Add both paramaters and return them.\n",
    "    '''\n",
    "    total = arg1 + arg2\n",
    "    total2 = total + arg1\n",
    "    print('Inside the Function :', total)\n",
    "    return total2\n",
    "total = sum(10, 20)\n",
    "print('Outside the Function :', total)"
   ]
  },
  {
   "cell_type": "markdown",
   "id": "decaa30f",
   "metadata": {},
   "source": [
    "## Scope of Variable"
   ]
  },
  {
   "cell_type": "code",
   "execution_count": 16,
   "id": "7becb4d1",
   "metadata": {},
   "outputs": [
    {
     "name": "stdout",
     "output_type": "stream",
     "text": [
      "Inside the function local total : 30\n",
      "Outside the function global total : 0\n"
     ]
    }
   ],
   "source": [
    "# Global vs. Local Variable\n",
    "\n",
    "total = 0\n",
    "\n",
    "def sum(arg1, arg2):\n",
    "    total = arg1 + arg2\n",
    "    print('Inside the function local total :', total)\n",
    "    return total\n",
    "\n",
    "sum(10,20)\n",
    "print('Outside the function global total :', total)"
   ]
  },
  {
   "cell_type": "code",
   "execution_count": 17,
   "id": "5f520d73",
   "metadata": {},
   "outputs": [
    {
     "name": "stdout",
     "output_type": "stream",
     "text": [
      "50\n",
      "40\n"
     ]
    }
   ],
   "source": [
    "jumlah_kucing = 20\n",
    "\n",
    "def jumlah_hewan():\n",
    "    jumlah_anjing = 30\n",
    "    return jumlah_kucing + jumlah_anjing\n",
    "\n",
    "def jumlah_kucing2():\n",
    "    return jumlah_kucing + jumlah_kucing\n",
    "\n",
    "print(jumlah_hewan())\n",
    "print(jumlah_kucing2())"
   ]
  },
  {
   "cell_type": "code",
   "execution_count": 18,
   "id": "148384cb",
   "metadata": {},
   "outputs": [
    {
     "data": {
      "text/plain": [
       "[3, 2, 1, 4]"
      ]
     },
     "execution_count": 18,
     "metadata": {},
     "output_type": "execute_result"
    }
   ],
   "source": [
    "list_ = [3, 2, 1]\n",
    "list_.append(4)\n",
    "list_"
   ]
  },
  {
   "cell_type": "markdown",
   "id": "356f33a7",
   "metadata": {},
   "source": [
    "## Python Module: Overview"
   ]
  },
  {
   "cell_type": "code",
   "execution_count": 22,
   "id": "9826aa38",
   "metadata": {},
   "outputs": [],
   "source": [
    "import mod"
   ]
  },
  {
   "cell_type": "code",
   "execution_count": 23,
   "id": "d4730c61",
   "metadata": {},
   "outputs": [
    {
     "data": {
      "text/plain": [
       "'Hacktiv8 PYTN-KS17'"
      ]
     },
     "execution_count": 23,
     "metadata": {},
     "output_type": "execute_result"
    }
   ],
   "source": [
    "mod.s"
   ]
  },
  {
   "cell_type": "code",
   "execution_count": 24,
   "id": "0f24c815",
   "metadata": {},
   "outputs": [
    {
     "name": "stdout",
     "output_type": "stream",
     "text": [
      "100\n",
      "200\n",
      "300\n"
     ]
    }
   ],
   "source": [
    "for val in mod.a:\n",
    "    print(val)"
   ]
  },
  {
   "cell_type": "code",
   "execution_count": 25,
   "id": "d1c26008",
   "metadata": {},
   "outputs": [
    {
     "name": "stdout",
     "output_type": "stream",
     "text": [
      "arg = ['foo', 'bar', 'baz', 'qux']\n"
     ]
    }
   ],
   "source": [
    "mod.foo(['foo', 'bar', 'baz', 'qux'])"
   ]
  },
  {
   "cell_type": "code",
   "execution_count": 26,
   "id": "3277751a",
   "metadata": {},
   "outputs": [],
   "source": [
    "x = mod.Foo()"
   ]
  },
  {
   "cell_type": "code",
   "execution_count": 27,
   "id": "864126f4",
   "metadata": {},
   "outputs": [
    {
     "name": "stdout",
     "output_type": "stream",
     "text": [
      "<mod.Foo object at 0x00000122DD0FB310>\n",
      "<class 'mod.Foo'>\n"
     ]
    }
   ],
   "source": [
    "print(x)\n",
    "print(type(x))"
   ]
  },
  {
   "cell_type": "markdown",
   "id": "73302d4b",
   "metadata": {},
   "source": [
    "## Module Search Path"
   ]
  },
  {
   "cell_type": "code",
   "execution_count": 28,
   "id": "e8540529",
   "metadata": {},
   "outputs": [
    {
     "data": {
      "text/plain": [
       "['D:\\\\Kuliah\\\\Hacktiv8\\\\MSIB - Python\\\\Untitled Folder 2',\n",
       " 'D:\\\\Kuliah\\\\Hacktiv8\\\\Anaconda\\\\python311.zip',\n",
       " 'D:\\\\Kuliah\\\\Hacktiv8\\\\Anaconda\\\\DLLs',\n",
       " 'D:\\\\Kuliah\\\\Hacktiv8\\\\Anaconda\\\\Lib',\n",
       " 'D:\\\\Kuliah\\\\Hacktiv8\\\\Anaconda',\n",
       " '',\n",
       " 'C:\\\\Users\\\\RHEINA\\\\AppData\\\\Roaming\\\\Python\\\\Python311\\\\site-packages',\n",
       " 'D:\\\\Kuliah\\\\Hacktiv8\\\\Anaconda\\\\Lib\\\\site-packages',\n",
       " 'D:\\\\Kuliah\\\\Hacktiv8\\\\Anaconda\\\\Lib\\\\site-packages\\\\win32',\n",
       " 'D:\\\\Kuliah\\\\Hacktiv8\\\\Anaconda\\\\Lib\\\\site-packages\\\\win32\\\\lib',\n",
       " 'D:\\\\Kuliah\\\\Hacktiv8\\\\Anaconda\\\\Lib\\\\site-packages\\\\Pythonwin']"
      ]
     },
     "execution_count": 28,
     "metadata": {},
     "output_type": "execute_result"
    }
   ],
   "source": [
    "import sys\n",
    "sys.path"
   ]
  },
  {
   "cell_type": "code",
   "execution_count": 29,
   "id": "ba898112",
   "metadata": {},
   "outputs": [
    {
     "data": {
      "text/plain": [
       "'D:\\\\Kuliah\\\\Hacktiv8\\\\MSIB - Python\\\\Untitled Folder 2\\\\mod.py'"
      ]
     },
     "execution_count": 29,
     "metadata": {},
     "output_type": "execute_result"
    }
   ],
   "source": [
    "mod.__file__"
   ]
  },
  {
   "cell_type": "code",
   "execution_count": 30,
   "id": "0c8bcbc6",
   "metadata": {},
   "outputs": [
    {
     "data": {
      "text/plain": [
       "'D:\\\\Kuliah\\\\Hacktiv8\\\\Anaconda\\\\Lib\\\\site-packages\\\\numpy\\\\__init__.py'"
      ]
     },
     "execution_count": 30,
     "metadata": {},
     "output_type": "execute_result"
    }
   ],
   "source": [
    "import numpy as np\n",
    "np.__file__"
   ]
  },
  {
   "cell_type": "code",
   "execution_count": 31,
   "id": "30e223a6",
   "metadata": {},
   "outputs": [
    {
     "name": "stdout",
     "output_type": "stream",
     "text": [
      "array(object, dtype=None, *, copy=True, order='K', subok=False, ndmin=0,\n",
      "          like=None)\n",
      "\n",
      "    Create an array.\n",
      "\n",
      "    Parameters\n",
      "    ----------\n",
      "    object : array_like\n",
      "        An array, any object exposing the array interface, an object whose\n",
      "        __array__ method returns an array, or any (nested) sequence.\n",
      "        If object is a scalar, a 0-dimensional array containing object is\n",
      "        returned.\n",
      "    dtype : data-type, optional\n",
      "        The desired data-type for the array.  If not given, then the type will\n",
      "        be determined as the minimum type required to hold the objects in the\n",
      "        sequence.\n",
      "    copy : bool, optional\n",
      "        If true (default), then the object is copied.  Otherwise, a copy will\n",
      "        only be made if __array__ returns a copy, if obj is a nested sequence,\n",
      "        or if a copy is needed to satisfy any of the other requirements\n",
      "        (`dtype`, `order`, etc.).\n",
      "    order : {'K', 'A', 'C', 'F'}, optional\n",
      "        Specify the memory layout of the array. If object is not an array, the\n",
      "        newly created array will be in C order (row major) unless 'F' is\n",
      "        specified, in which case it will be in Fortran order (column major).\n",
      "        If object is an array the following holds.\n",
      "\n",
      "        ===== ========= ===================================================\n",
      "        order  no copy                     copy=True\n",
      "        ===== ========= ===================================================\n",
      "        'K'   unchanged F & C order preserved, otherwise most similar order\n",
      "        'A'   unchanged F order if input is F and not C, otherwise C order\n",
      "        'C'   C order   C order\n",
      "        'F'   F order   F order\n",
      "        ===== ========= ===================================================\n",
      "\n",
      "        When ``copy=False`` and a copy is made for other reasons, the result is\n",
      "        the same as if ``copy=True``, with some exceptions for 'A', see the\n",
      "        Notes section. The default order is 'K'.\n",
      "    subok : bool, optional\n",
      "        If True, then sub-classes will be passed-through, otherwise\n",
      "        the returned array will be forced to be a base-class array (default).\n",
      "    ndmin : int, optional\n",
      "        Specifies the minimum number of dimensions that the resulting\n",
      "        array should have.  Ones will be prepended to the shape as\n",
      "        needed to meet this requirement.\n",
      "    like : array_like, optional\n",
      "        Reference object to allow the creation of arrays which are not\n",
      "        NumPy arrays. If an array-like passed in as ``like`` supports\n",
      "        the ``__array_function__`` protocol, the result will be defined\n",
      "        by it. In this case, it ensures the creation of an array object\n",
      "        compatible with that passed in via this argument.\n",
      "\n",
      "        .. versionadded:: 1.20.0\n",
      "\n",
      "    Returns\n",
      "    -------\n",
      "    out : ndarray\n",
      "        An array object satisfying the specified requirements.\n",
      "\n",
      "    See Also\n",
      "    --------\n",
      "    empty_like : Return an empty array with shape and type of input.\n",
      "    ones_like : Return an array of ones with shape and type of input.\n",
      "    zeros_like : Return an array of zeros with shape and type of input.\n",
      "    full_like : Return a new array with shape of input filled with value.\n",
      "    empty : Return a new uninitialized array.\n",
      "    ones : Return a new array setting values to one.\n",
      "    zeros : Return a new array setting values to zero.\n",
      "    full : Return a new array of given shape filled with value.\n",
      "\n",
      "\n",
      "    Notes\n",
      "    -----\n",
      "    When order is 'A' and `object` is an array in neither 'C' nor 'F' order,\n",
      "    and a copy is forced by a change in dtype, then the order of the result is\n",
      "    not necessarily 'C' as expected. This is likely a bug.\n",
      "\n",
      "    Examples\n",
      "    --------\n",
      "    >>> np.array([1, 2, 3])\n",
      "    array([1, 2, 3])\n",
      "\n",
      "    Upcasting:\n",
      "\n",
      "    >>> np.array([1, 2, 3.0])\n",
      "    array([ 1.,  2.,  3.])\n",
      "\n",
      "    More than one dimension:\n",
      "\n",
      "    >>> np.array([[1, 2], [3, 4]])\n",
      "    array([[1, 2],\n",
      "           [3, 4]])\n",
      "\n",
      "    Minimum dimensions 2:\n",
      "\n",
      "    >>> np.array([1, 2, 3], ndmin=2)\n",
      "    array([[1, 2, 3]])\n",
      "\n",
      "    Type provided:\n",
      "\n",
      "    >>> np.array([1, 2, 3], dtype=complex)\n",
      "    array([ 1.+0.j,  2.+0.j,  3.+0.j])\n",
      "\n",
      "    Data-type consisting of more than one element:\n",
      "\n",
      "    >>> x = np.array([(1,2),(3,4)],dtype=[('a','<i4'),('b','<i4')])\n",
      "    >>> x['a']\n",
      "    array([1, 3])\n",
      "\n",
      "    Creating an array from sub-classes:\n",
      "\n",
      "    >>> np.array(np.mat('1 2; 3 4'))\n",
      "    array([[1, 2],\n",
      "           [3, 4]])\n",
      "\n",
      "    >>> np.array(np.mat('1 2; 3 4'), subok=True)\n",
      "    matrix([[1, 2],\n",
      "            [3, 4]])\n"
     ]
    }
   ],
   "source": [
    "from IPython.display import display, HTML\n",
    "from pprint import pformat\n",
    "def boxprint(*args):\n",
    "    for arg in args:\n",
    "        display(HTML('<pre style=\"white-space: pre !important;\">{}</pre>'.format(pformat(arg))))\n",
    "print(np.array.__doc__)"
   ]
  },
  {
   "cell_type": "markdown",
   "id": "dab1a44b",
   "metadata": {},
   "source": [
    "## The Import Statement"
   ]
  },
  {
   "cell_type": "code",
   "execution_count": 32,
   "id": "a2e5bf00",
   "metadata": {},
   "outputs": [
    {
     "data": {
      "text/plain": [
       "<module 'mod' from 'D:\\\\Kuliah\\\\Hacktiv8\\\\MSIB - Python\\\\Untitled Folder 2\\\\mod.py'>"
      ]
     },
     "execution_count": 32,
     "metadata": {},
     "output_type": "execute_result"
    }
   ],
   "source": [
    "import mod\n",
    "mod"
   ]
  },
  {
   "cell_type": "code",
   "execution_count": 33,
   "id": "2bf5ab07",
   "metadata": {},
   "outputs": [
    {
     "name": "stdout",
     "output_type": "stream",
     "text": [
      "arg = quux\n"
     ]
    }
   ],
   "source": [
    "mod.foo('quux')"
   ]
  },
  {
   "cell_type": "code",
   "execution_count": 34,
   "id": "4dfb5f98",
   "metadata": {},
   "outputs": [
    {
     "data": {
      "text/plain": [
       "'Hacktiv8 PYTN-KS17'"
      ]
     },
     "execution_count": 34,
     "metadata": {},
     "output_type": "execute_result"
    }
   ],
   "source": [
    "from mod import s, foo\n",
    "s"
   ]
  },
  {
   "cell_type": "code",
   "execution_count": 35,
   "id": "6ef3acf9",
   "metadata": {},
   "outputs": [
    {
     "data": {
      "text/plain": [
       "<mod.Foo at 0x122dd473a10>"
      ]
     },
     "execution_count": 35,
     "metadata": {},
     "output_type": "execute_result"
    }
   ],
   "source": [
    "from mod import *\n",
    "Foo()"
   ]
  },
  {
   "cell_type": "code",
   "execution_count": 36,
   "id": "77bd3c8b",
   "metadata": {},
   "outputs": [
    {
     "name": "stdout",
     "output_type": "stream",
     "text": [
      "arg = test\n"
     ]
    }
   ],
   "source": [
    "import numpy as np\n",
    "arr = np.array([1,12,2])\n",
    "import pandas as pd\n",
    "import matplotlib.pyplot as plt\n",
    "def bar():\n",
    "    from mod import foo\n",
    "    foo('test')\n",
    "bar()"
   ]
  },
  {
   "cell_type": "code",
   "execution_count": 37,
   "id": "2eb3b330",
   "metadata": {},
   "outputs": [
    {
     "name": "stdout",
     "output_type": "stream",
     "text": [
      "Module not found\n"
     ]
    }
   ],
   "source": [
    "try:\n",
    "    import baz\n",
    "\n",
    "except ImportError:\n",
    "    print('Module not found')"
   ]
  },
  {
   "cell_type": "code",
   "execution_count": 38,
   "id": "ff14264b",
   "metadata": {},
   "outputs": [
    {
     "name": "stdout",
     "output_type": "stream",
     "text": [
      "Object not found in module\n"
     ]
    }
   ],
   "source": [
    "try:\n",
    "    from mod import baz\n",
    "except ImportError:\n",
    "    print('Object not found in module')"
   ]
  },
  {
   "cell_type": "code",
   "execution_count": 39,
   "id": "a2c3ae16",
   "metadata": {},
   "outputs": [
    {
     "data": {
      "text/plain": [
       "['Foo',\n",
       " 'HTML',\n",
       " 'In',\n",
       " 'NamespaceMagics',\n",
       " 'Out',\n",
       " '_',\n",
       " '_18',\n",
       " '_23',\n",
       " '_28',\n",
       " '_29',\n",
       " '_30',\n",
       " '_32',\n",
       " '_34',\n",
       " '_35',\n",
       " '_Jupyter',\n",
       " '__',\n",
       " '___',\n",
       " '__builtin__',\n",
       " '__builtins__',\n",
       " '__doc__',\n",
       " '__loader__',\n",
       " '__name__',\n",
       " '__package__',\n",
       " '__spec__',\n",
       " '_dh',\n",
       " '_getcontentof',\n",
       " '_getshapeof',\n",
       " '_getsizeof',\n",
       " '_i',\n",
       " '_i1',\n",
       " '_i10',\n",
       " '_i11',\n",
       " '_i12',\n",
       " '_i13',\n",
       " '_i14',\n",
       " '_i15',\n",
       " '_i16',\n",
       " '_i17',\n",
       " '_i18',\n",
       " '_i19',\n",
       " '_i2',\n",
       " '_i20',\n",
       " '_i21',\n",
       " '_i22',\n",
       " '_i23',\n",
       " '_i24',\n",
       " '_i25',\n",
       " '_i26',\n",
       " '_i27',\n",
       " '_i28',\n",
       " '_i29',\n",
       " '_i3',\n",
       " '_i30',\n",
       " '_i31',\n",
       " '_i32',\n",
       " '_i33',\n",
       " '_i34',\n",
       " '_i35',\n",
       " '_i36',\n",
       " '_i37',\n",
       " '_i38',\n",
       " '_i39',\n",
       " '_i4',\n",
       " '_i5',\n",
       " '_i6',\n",
       " '_i7',\n",
       " '_i8',\n",
       " '_i9',\n",
       " '_ih',\n",
       " '_ii',\n",
       " '_iii',\n",
       " '_nms',\n",
       " '_oh',\n",
       " 'a',\n",
       " 'arr',\n",
       " 'autopep8',\n",
       " 'bar',\n",
       " 'boxprint',\n",
       " 'changeMe',\n",
       " 'change_me',\n",
       " 'display',\n",
       " 'exit',\n",
       " 'foo',\n",
       " 'get_ipython',\n",
       " 'getsizeof',\n",
       " 'json',\n",
       " 'jumlah_hewan',\n",
       " 'jumlah_kucing',\n",
       " 'jumlah_kucing2',\n",
       " 'list_',\n",
       " 'mod',\n",
       " 'my_function',\n",
       " 'mylist',\n",
       " 'np',\n",
       " 'open',\n",
       " 'pd',\n",
       " 'pformat',\n",
       " 'plt',\n",
       " 'printInfo',\n",
       " 'print_info',\n",
       " 'printme',\n",
       " 'quit',\n",
       " 's',\n",
       " 'sum',\n",
       " 'sum_1',\n",
       " 'sum_2',\n",
       " 'sys',\n",
       " 'total',\n",
       " 'val',\n",
       " 'var_dic_list',\n",
       " 'x']"
      ]
     },
     "execution_count": 39,
     "metadata": {},
     "output_type": "execute_result"
    }
   ],
   "source": [
    "dir()"
   ]
  }
 ],
 "metadata": {
  "kernelspec": {
   "display_name": "Python 3 (ipykernel)",
   "language": "python",
   "name": "python3"
  },
  "language_info": {
   "codemirror_mode": {
    "name": "ipython",
    "version": 3
   },
   "file_extension": ".py",
   "mimetype": "text/x-python",
   "name": "python",
   "nbconvert_exporter": "python",
   "pygments_lexer": "ipython3",
   "version": "3.11.4"
  },
  "toc": {
   "base_numbering": 1,
   "nav_menu": {},
   "number_sections": true,
   "sideBar": true,
   "skip_h1_title": false,
   "title_cell": "Table of Contents",
   "title_sidebar": "Contents",
   "toc_cell": false,
   "toc_position": {},
   "toc_section_display": true,
   "toc_window_display": false
  },
  "varInspector": {
   "cols": {
    "lenName": 16,
    "lenType": 16,
    "lenVar": 40
   },
   "kernels_config": {
    "python": {
     "delete_cmd_postfix": "",
     "delete_cmd_prefix": "del ",
     "library": "var_list.py",
     "varRefreshCmd": "print(var_dic_list())"
    },
    "r": {
     "delete_cmd_postfix": ") ",
     "delete_cmd_prefix": "rm(",
     "library": "var_list.r",
     "varRefreshCmd": "cat(var_dic_list()) "
    }
   },
   "types_to_exclude": [
    "module",
    "function",
    "builtin_function_or_method",
    "instance",
    "_Feature"
   ],
   "window_display": false
  }
 },
 "nbformat": 4,
 "nbformat_minor": 5
}
